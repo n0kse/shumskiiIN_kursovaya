{
 "cells": [
  {
   "cell_type": "code",
   "execution_count": 1,
   "id": "4d469448-6909-4c1d-8401-b171638317e9",
   "metadata": {},
   "outputs": [
    {
     "name": "stdout",
     "output_type": "stream",
     "text": [
      "База данных создана и успешно подключена к SQLite\n",
      "Версия базы данных SQLite:  [('3.43.1',)]\n",
      "Соединение с SQLite закрыто\n"
     ]
    }
   ],
   "source": [
    "import sqlite3 # импортируем библиотеку по работе с базой данных\n",
    "try:\n",
    "    sqlite_connection = sqlite3.connect('shumskiiIN.db') #создаем переменную подключения к БД\n",
    "    cursor = sqlite_connection.cursor() #создаем специальную переменную по работе с БД\n",
    "    print(\"База данных создана и успешно подключена к SQLite\")\n",
    "\n",
    "    sqlite_select_query = \"SELECT sqlite_version();\" #пишем запрос получение версии библиотеки sqlite \n",
    "    cursor.execute(sqlite_select_query) #выполняем запрос, после чего в буфере содержится текст результата\n",
    "    record = cursor.fetchall() #читаем все содержимое буфера в переменную record\n",
    "    print(\"Версия базы данных SQLite: \", record)\n",
    "    cursor.close() #закрываем курсор по работе с БД\n",
    "\n",
    "except sqlite3.Error as error:\n",
    "    print(\"Ошибка при подключении к sqlite\", error) # если при попытке подключения к БД возникли ошибки, выводим их\n",
    "finally:\n",
    "    if (sqlite_connection):\n",
    "        sqlite_connection.close() #если соединение с БД открыто, закрываем его\n",
    "        print(\"Соединение с SQLite закрыто\")"
   ]
  },
  {
   "cell_type": "code",
   "execution_count": 2,
   "id": "e65f9e45-8e4e-4d87-8515-754dd1f9c9b5",
   "metadata": {},
   "outputs": [
    {
     "name": "stdout",
     "output_type": "stream",
     "text": [
      "База данных подключена к SQLite\n",
      "Таблица periodList создана\n",
      "Таблица categoryList создана\n",
      "Таблица actionList создана\n",
      "Таблица keywordList создана\n",
      "Соединение с SQLite закрыто\n"
     ]
    }
   ],
   "source": [
    "import sqlite3\n",
    "try:\n",
    "    sqlite_connection = sqlite3.connect('shumskiiIN.db')\n",
    "# Создаем sql-запросы на создание таблиц, записываем для удобства их в переменные с одноименным названием\n",
    "    periodList = 'CREATE TABLE periodList (id INTEGER PRIMARY KEY NOT NULL, period VARCHAR(30) NOT NULL);'\n",
    "    categoryList = 'CREATE TABLE categoryList (id INTEGER PRIMARY KEY NOT NULL, category VARCHAR(30) NOT NULL);'\n",
    "    actionList = 'CREATE TABLE actionList (id INTEGER PRIMARY KEY NOT NULL, action VARCHAR(30) NOT NULL);'\n",
    "    keywordList = 'CREATE TABLE keywordList (id INTEGER PRIMARY KEY NOT NULL, keyword VARCHAR(30) NOT NULL);'\n",
    "    \n",
    "    cursor = sqlite_connection.cursor()\n",
    "    print(\"База данных подключена к SQLite\")\n",
    "    cursor.execute(periodList)\n",
    "    sqlite_connection.commit()\n",
    "    print(\"Таблица periodList создана\")\n",
    "\n",
    "    cursor.execute(categoryList)\n",
    "    sqlite_connection.commit()\n",
    "    print(\"Таблица categoryList создана\")\n",
    "\n",
    "    cursor.execute(actionList)\n",
    "    sqlite_connection.commit()\n",
    "    print(\"Таблица actionList создана\")\n",
    "    \n",
    "    cursor.execute(keywordList)\n",
    "    sqlite_connection.commit()\n",
    "    print(\"Таблица keywordList создана\")\n",
    "\n",
    "    cursor.close()\n",
    "\n",
    "except sqlite3.Error as error:\n",
    "    print(\"Ошибка при подключении к sqlite\", error)\n",
    "finally:\n",
    "    if (sqlite_connection):\n",
    "        sqlite_connection.close()\n",
    "        print(\"Соединение с SQLite закрыто\")"
   ]
  },
  {
   "cell_type": "code",
   "execution_count": 3,
   "id": "bdd87510-9ef3-4dbc-a0d0-90eea47c8e2f",
   "metadata": {},
   "outputs": [
    {
     "name": "stdout",
     "output_type": "stream",
     "text": [
      "Соединение с SQLite закрыто\n"
     ]
    }
   ],
   "source": [
    "# Заполнение таблицы periodList\n",
    "import sqlite3\n",
    "try:\n",
    "    sqlite_connection = sqlite3.connect('shumskiiIN.db')\n",
    "    filling_periodList = '''INSERT INTO periodList (id, period) VALUES\n",
    "                        (1, 'Ежемесячно'),\n",
    "                        (2, 'Ежеквартально'),\n",
    "                        (3, 'Ежегодно');\n",
    "                      '''\n",
    "    cursor = sqlite_connection.cursor()\n",
    "    cursor.execute(filling_periodList)\n",
    "    sqlite_connection.commit()\n",
    "    cursor.close()\n",
    "except sqlite3.Error as error:\n",
    "    print(\"Ошибка при подключении к sqlite\", error)\n",
    "finally:\n",
    "    if (sqlite_connection):\n",
    "        sqlite_connection.close()\n",
    "        print(\"Соединение с SQLite закрыто\")"
   ]
  },
  {
   "cell_type": "code",
   "execution_count": 4,
   "id": "7e5cba8e-2a75-4daa-be83-7f8657bd704d",
   "metadata": {},
   "outputs": [
    {
     "name": "stdout",
     "output_type": "stream",
     "text": [
      "Соединение с SQLite закрыто\n"
     ]
    }
   ],
   "source": [
    "# Заполнение таблицы periodList\n",
    "import sqlite3\n",
    "try:\n",
    "    sqlite_connection = sqlite3.connect('shumskiiIN.db')\n",
    "    filling_categoryList = '''INSERT INTO categoryList (id, category) VALUES\n",
    "                        (1, 'Активный гражданин'),\n",
    "                        (2, 'Выборы'),\n",
    "                        (3, 'Дороги и транспорт'),\n",
    "                        (4, 'Жилищно-коммунальное хозяйство'),\n",
    "                        (5, 'Здравоохранение'),\n",
    "                        (6, 'Культура'),\n",
    "                        (7, 'Общественное питание'),\n",
    "                        (8, 'Пешеходная инфраструктура'),\n",
    "                        (9, 'Религиозные объекты'),\n",
    "                        (10, 'Социальная среда'),\n",
    "                        (11, 'Строительство'),\n",
    "                        (12, 'Торговля'),\n",
    "                        (13, 'Безопасность'),\n",
    "                        (14, 'Государственные услуги'),\n",
    "                        (15, 'Досуг и отдых'),\n",
    "                        (16, 'Забота о животных'),\n",
    "                        (17, 'Земля и имущество'),\n",
    "                        (18, 'Образование'),\n",
    "                        (19, 'Органы государственной власти'),\n",
    "                        (20, 'Предпринимательство'),\n",
    "                        (21, 'Связь'),\n",
    "                        (22, 'Справочная информация'),\n",
    "                        (23, 'Территориальное деление'),\n",
    "                        (24, 'Трудоустройство');\n",
    "                      '''\n",
    "    cursor = sqlite_connection.cursor()\n",
    "    cursor.execute(filling_categoryList)\n",
    "    sqlite_connection.commit()\n",
    "    cursor.close()\n",
    "except sqlite3.Error as error:\n",
    "    print(\"Ошибка при подключении к sqlite\", error)\n",
    "finally:\n",
    "    if (sqlite_connection):\n",
    "        sqlite_connection.close()\n",
    "        print(\"Соединение с SQLite закрыто\")"
   ]
  },
  {
   "cell_type": "code",
   "execution_count": 5,
   "id": "e77f6aa1-b10a-4382-b7f3-c8854d3f0760",
   "metadata": {},
   "outputs": [
    {
     "name": "stdout",
     "output_type": "stream",
     "text": [
      "Соединение с SQLite закрыто\n"
     ]
    }
   ],
   "source": [
    "# Заполнение таблицы periodList\n",
    "import sqlite3\n",
    "try:\n",
    "    sqlite_connection = sqlite3.connect('shumskiiIN.db')\n",
    "    filling_actionList = '''INSERT INTO actionList (id, action) VALUES\n",
    "                        (1, 'Опубликован'),\n",
    "                        (2, 'Архивирован'),\n",
    "                        (3, 'Изъят из публичного доступа');\n",
    "                      '''\n",
    "    cursor = sqlite_connection.cursor()\n",
    "    cursor.execute(filling_actionList)\n",
    "    sqlite_connection.commit()\n",
    "    cursor.close()\n",
    "except sqlite3.Error as error:\n",
    "    print(\"Ошибка при подключении к sqlite\", error)\n",
    "finally:\n",
    "    if (sqlite_connection):\n",
    "        sqlite_connection.close()\n",
    "        print(\"Соединение с SQLite закрыто\")"
   ]
  },
  {
   "cell_type": "code",
   "execution_count": 6,
   "id": "6c5b5662-f6b6-4745-a3b2-033c59acebe7",
   "metadata": {},
   "outputs": [
    {
     "name": "stdout",
     "output_type": "stream",
     "text": [
      "Соединение с SQLite закрыто\n"
     ]
    }
   ],
   "source": [
    "# Заполнение таблицы keywordList\n",
    "import sqlite3\n",
    "try:\n",
    "    sqlite_connection = sqlite3.connect('shumskiiIN.db')\n",
    "    filling_keywordList = '''INSERT INTO keywordList (id, keyword) VALUES\n",
    "                        (1, 'Зимние'),\n",
    "                        (2, 'Летние'),\n",
    "                        (3, 'Всесезонные');\n",
    "                      '''\n",
    "    cursor = sqlite_connection.cursor()\n",
    "    cursor.execute(filling_keywordList)\n",
    "    sqlite_connection.commit()\n",
    "    cursor.close()\n",
    "except sqlite3.Error as error:\n",
    "    print(\"Ошибка при подключении к sqlite\", error)\n",
    "finally:\n",
    "    if (sqlite_connection):\n",
    "        sqlite_connection.close()\n",
    "        print(\"Соединение с SQLite закрыто\")"
   ]
  },
  {
   "cell_type": "code",
   "execution_count": 7,
   "id": "4a577264-ea55-4004-9724-a7a81324d7fb",
   "metadata": {},
   "outputs": [],
   "source": [
    "#Функция реализует запрос на чтение к базе данных\n",
    "def query_sql (db, query):\n",
    "  sqlite_connection = sqlite3.connect(db)\n",
    "  cursor = sqlite_connection.cursor()\n",
    "  cursor.execute(query)\n",
    "  sqlite_connection.commit()\n",
    "  rows = cursor.fetchall()\n",
    "  names = tuple(map(lambda x: x[0], cursor.description))\n",
    "  cursor.close()\n",
    "  sqlite_connection.close()\n",
    "  import pandas as pd\n",
    "  import numpy as np\n",
    "  aa=np.array(rows)\n",
    "  dd=pd.DataFrame(aa, columns=names)\n",
    "  display(dd)"
   ]
  },
  {
   "cell_type": "code",
   "execution_count": 8,
   "id": "0630b617-3345-4bab-bcc7-66c0dbefd7d1",
   "metadata": {},
   "outputs": [
    {
     "data": {
      "text/html": [
       "<div>\n",
       "<style scoped>\n",
       "    .dataframe tbody tr th:only-of-type {\n",
       "        vertical-align: middle;\n",
       "    }\n",
       "\n",
       "    .dataframe tbody tr th {\n",
       "        vertical-align: top;\n",
       "    }\n",
       "\n",
       "    .dataframe thead th {\n",
       "        text-align: right;\n",
       "    }\n",
       "</style>\n",
       "<table border=\"1\" class=\"dataframe\">\n",
       "  <thead>\n",
       "    <tr style=\"text-align: right;\">\n",
       "      <th></th>\n",
       "      <th>id</th>\n",
       "      <th>period</th>\n",
       "    </tr>\n",
       "  </thead>\n",
       "  <tbody>\n",
       "    <tr>\n",
       "      <th>0</th>\n",
       "      <td>1</td>\n",
       "      <td>Ежемесячно</td>\n",
       "    </tr>\n",
       "    <tr>\n",
       "      <th>1</th>\n",
       "      <td>2</td>\n",
       "      <td>Ежеквартально</td>\n",
       "    </tr>\n",
       "    <tr>\n",
       "      <th>2</th>\n",
       "      <td>3</td>\n",
       "      <td>Ежегодно</td>\n",
       "    </tr>\n",
       "  </tbody>\n",
       "</table>\n",
       "</div>"
      ],
      "text/plain": [
       "  id         period\n",
       "0  1     Ежемесячно\n",
       "1  2  Ежеквартально\n",
       "2  3       Ежегодно"
      ]
     },
     "metadata": {},
     "output_type": "display_data"
    },
    {
     "data": {
      "text/html": [
       "<div>\n",
       "<style scoped>\n",
       "    .dataframe tbody tr th:only-of-type {\n",
       "        vertical-align: middle;\n",
       "    }\n",
       "\n",
       "    .dataframe tbody tr th {\n",
       "        vertical-align: top;\n",
       "    }\n",
       "\n",
       "    .dataframe thead th {\n",
       "        text-align: right;\n",
       "    }\n",
       "</style>\n",
       "<table border=\"1\" class=\"dataframe\">\n",
       "  <thead>\n",
       "    <tr style=\"text-align: right;\">\n",
       "      <th></th>\n",
       "      <th>id</th>\n",
       "      <th>action</th>\n",
       "    </tr>\n",
       "  </thead>\n",
       "  <tbody>\n",
       "    <tr>\n",
       "      <th>0</th>\n",
       "      <td>1</td>\n",
       "      <td>Опубликован</td>\n",
       "    </tr>\n",
       "    <tr>\n",
       "      <th>1</th>\n",
       "      <td>2</td>\n",
       "      <td>Архивирован</td>\n",
       "    </tr>\n",
       "    <tr>\n",
       "      <th>2</th>\n",
       "      <td>3</td>\n",
       "      <td>Изъят из публичного доступа</td>\n",
       "    </tr>\n",
       "  </tbody>\n",
       "</table>\n",
       "</div>"
      ],
      "text/plain": [
       "  id                       action\n",
       "0  1                  Опубликован\n",
       "1  2                  Архивирован\n",
       "2  3  Изъят из публичного доступа"
      ]
     },
     "metadata": {},
     "output_type": "display_data"
    },
    {
     "data": {
      "text/html": [
       "<div>\n",
       "<style scoped>\n",
       "    .dataframe tbody tr th:only-of-type {\n",
       "        vertical-align: middle;\n",
       "    }\n",
       "\n",
       "    .dataframe tbody tr th {\n",
       "        vertical-align: top;\n",
       "    }\n",
       "\n",
       "    .dataframe thead th {\n",
       "        text-align: right;\n",
       "    }\n",
       "</style>\n",
       "<table border=\"1\" class=\"dataframe\">\n",
       "  <thead>\n",
       "    <tr style=\"text-align: right;\">\n",
       "      <th></th>\n",
       "      <th>id</th>\n",
       "      <th>category</th>\n",
       "    </tr>\n",
       "  </thead>\n",
       "  <tbody>\n",
       "    <tr>\n",
       "      <th>0</th>\n",
       "      <td>1</td>\n",
       "      <td>Активный гражданин</td>\n",
       "    </tr>\n",
       "    <tr>\n",
       "      <th>1</th>\n",
       "      <td>2</td>\n",
       "      <td>Выборы</td>\n",
       "    </tr>\n",
       "    <tr>\n",
       "      <th>2</th>\n",
       "      <td>3</td>\n",
       "      <td>Дороги и транспорт</td>\n",
       "    </tr>\n",
       "    <tr>\n",
       "      <th>3</th>\n",
       "      <td>4</td>\n",
       "      <td>Жилищно-коммунальное хозяйство</td>\n",
       "    </tr>\n",
       "    <tr>\n",
       "      <th>4</th>\n",
       "      <td>5</td>\n",
       "      <td>Здравоохранение</td>\n",
       "    </tr>\n",
       "    <tr>\n",
       "      <th>5</th>\n",
       "      <td>6</td>\n",
       "      <td>Культура</td>\n",
       "    </tr>\n",
       "    <tr>\n",
       "      <th>6</th>\n",
       "      <td>7</td>\n",
       "      <td>Общественное питание</td>\n",
       "    </tr>\n",
       "    <tr>\n",
       "      <th>7</th>\n",
       "      <td>8</td>\n",
       "      <td>Пешеходная инфраструктура</td>\n",
       "    </tr>\n",
       "    <tr>\n",
       "      <th>8</th>\n",
       "      <td>9</td>\n",
       "      <td>Религиозные объекты</td>\n",
       "    </tr>\n",
       "    <tr>\n",
       "      <th>9</th>\n",
       "      <td>10</td>\n",
       "      <td>Социальная среда</td>\n",
       "    </tr>\n",
       "    <tr>\n",
       "      <th>10</th>\n",
       "      <td>11</td>\n",
       "      <td>Строительство</td>\n",
       "    </tr>\n",
       "    <tr>\n",
       "      <th>11</th>\n",
       "      <td>12</td>\n",
       "      <td>Торговля</td>\n",
       "    </tr>\n",
       "    <tr>\n",
       "      <th>12</th>\n",
       "      <td>13</td>\n",
       "      <td>Безопасность</td>\n",
       "    </tr>\n",
       "    <tr>\n",
       "      <th>13</th>\n",
       "      <td>14</td>\n",
       "      <td>Государственные услуги</td>\n",
       "    </tr>\n",
       "    <tr>\n",
       "      <th>14</th>\n",
       "      <td>15</td>\n",
       "      <td>Досуг и отдых</td>\n",
       "    </tr>\n",
       "    <tr>\n",
       "      <th>15</th>\n",
       "      <td>16</td>\n",
       "      <td>Забота о животных</td>\n",
       "    </tr>\n",
       "    <tr>\n",
       "      <th>16</th>\n",
       "      <td>17</td>\n",
       "      <td>Земля и имущество</td>\n",
       "    </tr>\n",
       "    <tr>\n",
       "      <th>17</th>\n",
       "      <td>18</td>\n",
       "      <td>Образование</td>\n",
       "    </tr>\n",
       "    <tr>\n",
       "      <th>18</th>\n",
       "      <td>19</td>\n",
       "      <td>Органы государственной власти</td>\n",
       "    </tr>\n",
       "    <tr>\n",
       "      <th>19</th>\n",
       "      <td>20</td>\n",
       "      <td>Предпринимательство</td>\n",
       "    </tr>\n",
       "    <tr>\n",
       "      <th>20</th>\n",
       "      <td>21</td>\n",
       "      <td>Связь</td>\n",
       "    </tr>\n",
       "    <tr>\n",
       "      <th>21</th>\n",
       "      <td>22</td>\n",
       "      <td>Справочная информация</td>\n",
       "    </tr>\n",
       "    <tr>\n",
       "      <th>22</th>\n",
       "      <td>23</td>\n",
       "      <td>Территориальное деление</td>\n",
       "    </tr>\n",
       "    <tr>\n",
       "      <th>23</th>\n",
       "      <td>24</td>\n",
       "      <td>Трудоустройство</td>\n",
       "    </tr>\n",
       "  </tbody>\n",
       "</table>\n",
       "</div>"
      ],
      "text/plain": [
       "    id                        category\n",
       "0    1              Активный гражданин\n",
       "1    2                          Выборы\n",
       "2    3              Дороги и транспорт\n",
       "3    4  Жилищно-коммунальное хозяйство\n",
       "4    5                 Здравоохранение\n",
       "5    6                        Культура\n",
       "6    7            Общественное питание\n",
       "7    8       Пешеходная инфраструктура\n",
       "8    9             Религиозные объекты\n",
       "9   10                Социальная среда\n",
       "10  11                   Строительство\n",
       "11  12                        Торговля\n",
       "12  13                    Безопасность\n",
       "13  14          Государственные услуги\n",
       "14  15                   Досуг и отдых\n",
       "15  16               Забота о животных\n",
       "16  17               Земля и имущество\n",
       "17  18                     Образование\n",
       "18  19   Органы государственной власти\n",
       "19  20             Предпринимательство\n",
       "20  21                           Связь\n",
       "21  22           Справочная информация\n",
       "22  23         Территориальное деление\n",
       "23  24                 Трудоустройство"
      ]
     },
     "metadata": {},
     "output_type": "display_data"
    },
    {
     "data": {
      "text/html": [
       "<div>\n",
       "<style scoped>\n",
       "    .dataframe tbody tr th:only-of-type {\n",
       "        vertical-align: middle;\n",
       "    }\n",
       "\n",
       "    .dataframe tbody tr th {\n",
       "        vertical-align: top;\n",
       "    }\n",
       "\n",
       "    .dataframe thead th {\n",
       "        text-align: right;\n",
       "    }\n",
       "</style>\n",
       "<table border=\"1\" class=\"dataframe\">\n",
       "  <thead>\n",
       "    <tr style=\"text-align: right;\">\n",
       "      <th></th>\n",
       "      <th>id</th>\n",
       "      <th>keyword</th>\n",
       "    </tr>\n",
       "  </thead>\n",
       "  <tbody>\n",
       "    <tr>\n",
       "      <th>0</th>\n",
       "      <td>1</td>\n",
       "      <td>Зимние</td>\n",
       "    </tr>\n",
       "    <tr>\n",
       "      <th>1</th>\n",
       "      <td>2</td>\n",
       "      <td>Летние</td>\n",
       "    </tr>\n",
       "    <tr>\n",
       "      <th>2</th>\n",
       "      <td>3</td>\n",
       "      <td>Всесезонные</td>\n",
       "    </tr>\n",
       "  </tbody>\n",
       "</table>\n",
       "</div>"
      ],
      "text/plain": [
       "  id      keyword\n",
       "0  1       Зимние\n",
       "1  2       Летние\n",
       "2  3  Всесезонные"
      ]
     },
     "metadata": {},
     "output_type": "display_data"
    }
   ],
   "source": [
    "query_sql('shumskiiIN.db','SELECT * FROM periodList;')\n",
    "query_sql('shumskiiIN.db','SELECT * FROM actionList;')\n",
    "query_sql('shumskiiIN.db','SELECT * FROM categoryList;')\n",
    "query_sql('shumskiiIN.db','SELECT * FROM keywordList;')"
   ]
  },
  {
   "cell_type": "code",
   "execution_count": 9,
   "id": "65320d5c-3e01-4419-a0d1-5d2c3c699832",
   "metadata": {},
   "outputs": [],
   "source": [
    "#обработчик событий\n",
    "def query_sql (db, query, visible = True):\n",
    "  import sqlite3\n",
    "  sqlite_connection = sqlite3.connect(db)\n",
    "  cursor = sqlite_connection.cursor()\n",
    "  cursor.execute(query)\n",
    "  sqlite_connection.commit()\n",
    "  if visible:\n",
    "    rows = cursor.fetchall()\n",
    "    names = tuple(map(lambda x: x[0], cursor.description))\n",
    "    import pandas as pd\n",
    "    import numpy as np\n",
    "    aa=np.array(rows)\n",
    "    dd=pd.DataFrame(aa, columns=names)\n",
    "    return dd\n",
    "  cursor.close()\n",
    "  sqlite_connection.close()"
   ]
  },
  {
   "cell_type": "code",
   "execution_count": 10,
   "id": "6f8aff18-9d96-461a-b0b9-3b0317d3de39",
   "metadata": {},
   "outputs": [
    {
     "data": {
      "text/html": [
       "<div>\n",
       "<style scoped>\n",
       "    .dataframe tbody tr th:only-of-type {\n",
       "        vertical-align: middle;\n",
       "    }\n",
       "\n",
       "    .dataframe tbody tr th {\n",
       "        vertical-align: top;\n",
       "    }\n",
       "\n",
       "    .dataframe thead th {\n",
       "        text-align: right;\n",
       "    }\n",
       "</style>\n",
       "<table border=\"1\" class=\"dataframe\">\n",
       "  <thead>\n",
       "    <tr style=\"text-align: right;\">\n",
       "      <th></th>\n",
       "      <th>name</th>\n",
       "    </tr>\n",
       "  </thead>\n",
       "  <tbody>\n",
       "    <tr>\n",
       "      <th>0</th>\n",
       "      <td>periodList</td>\n",
       "    </tr>\n",
       "    <tr>\n",
       "      <th>1</th>\n",
       "      <td>categoryList</td>\n",
       "    </tr>\n",
       "    <tr>\n",
       "      <th>2</th>\n",
       "      <td>actionList</td>\n",
       "    </tr>\n",
       "    <tr>\n",
       "      <th>3</th>\n",
       "      <td>keywordList</td>\n",
       "    </tr>\n",
       "  </tbody>\n",
       "</table>\n",
       "</div>"
      ],
      "text/plain": [
       "           name\n",
       "0    periodList\n",
       "1  categoryList\n",
       "2    actionList\n",
       "3   keywordList"
      ]
     },
     "execution_count": 10,
     "metadata": {},
     "output_type": "execute_result"
    }
   ],
   "source": [
    "#Посмотреть список всех таблиц в базе данных\n",
    "query_sql('shumskiiIN.db','SELECT name FROM sqlite_master WHERE type=\\'table\\';')\n"
   ]
  },
  {
   "cell_type": "markdown",
   "id": "c1b36a60-9391-4d8d-a481-991546462bd7",
   "metadata": {},
   "source": [
    "# Создание основных таблиц"
   ]
  },
  {
   "cell_type": "code",
   "execution_count": 11,
   "id": "553e2d1a-0cdf-4537-8806-612e6c106370",
   "metadata": {},
   "outputs": [],
   "source": [
    "#создание таблицы authority\n",
    "query_sql('shumskiiIN.db','''\n",
    "    CREATE TABLE authority (id INTEGER PRIMARY KEY NOT NULL, \n",
    "                            name VARCHAR(50) NOT NULL,\n",
    "                            shortName VARCHAR(30),\n",
    "                            firstName VARCHAR(15) NOT NULL,\n",
    "                            lastName VARCHAR(15) NOT NULL,\n",
    "                            middleName VARCHAR(20), \n",
    "                            email VARCHAR(30) NOT NULL,\n",
    "                            tel INTEGER NOT NULL,\n",
    "                            domain VARCHAR(30) NOT NULL,\n",
    "                            street VARCHAR(30) NOT NULL,\n",
    "                            home INTEGER NOT NULL,\n",
    "                            block INTEGER,\n",
    "                            INN INTEGER NOT NULL,\n",
    "                            KPP INTEGER NOT NULL,\n",
    "                            OKOGU INTEGER NOT NULL);\n",
    "                            \n",
    "            ''', False)"
   ]
  },
  {
   "cell_type": "code",
   "execution_count": 12,
   "id": "448b2e8a-0051-45dc-9852-74e0adecccda",
   "metadata": {},
   "outputs": [],
   "source": [
    "#создание табдицы worker\n",
    "query_sql('shumskiiIN.db','''\n",
    "    CREATE TABLE worker (id INTEGER PRIMARY KEY NOT NULL, \n",
    "                         firstName VARCHAR(15) NOT NULL,\n",
    "                         lastName VARCHAR(15) NOT NULL,\n",
    "                         middleName VARCHAR(20), \n",
    "                         dateВirth VARCHAR(10) NOT NULL,\n",
    "                         position VARCHAR(30) NOT NULL,\n",
    "                         email VARCHAR(30) NOT NULL,\n",
    "                         tel INTEGER NOT NULL,\n",
    "                         placeID INTEGER NOT NULL REFERENCES authority (id)\n",
    "                         ON DELETE NO ACTION ON UPDATE NO ACTION);\n",
    "                                                      \n",
    "            ''', False)"
   ]
  },
  {
   "cell_type": "code",
   "execution_count": 13,
   "id": "36a2377b-44fb-4dac-b085-c8755578a5e3",
   "metadata": {},
   "outputs": [],
   "source": [
    "#создание таблицы log\n",
    "query_sql('shumskiiIN.db','''\n",
    "    CREATE TABLE log (id INTEGER PRIMARY KEY NOT NULL, \n",
    "                      action INTEGER NOT NULL REFERENCES actionList (id)\n",
    "                         ON DELETE NO ACTION ON UPDATE NO ACTION,\n",
    "                      date VARCHAR(10) NOT NULL,\n",
    "                      user INTEGER NOT NULL REFERENCES worker (id)\n",
    "                         ON DELETE NO ACTION ON UPDATE NO ACTION,\n",
    "                      GIS INTEGER NOT NULL,\n",
    "                      dataSet INTEGER NOT NULL REFERENCES dataSet (id)\n",
    "                         ON DELETE NO ACTION ON UPDATE NO ACTION, \n",
    "                      urlXLSX VARCHAR(80),\n",
    "                      urlJSON VARCHAR(80),\n",
    "                      urlCSV VARCHAR(80),\n",
    "                      urlXML VARCHAR(80));\n",
    "            ''', False)"
   ]
  },
  {
   "cell_type": "code",
   "execution_count": 14,
   "id": "0c17b5ba-c315-4cbc-8bd2-81c81cfd35c6",
   "metadata": {},
   "outputs": [],
   "source": [
    "#создание таблицы dataSet\n",
    "query_sql('shumskiiIN.db','''\n",
    "    CREATE TABLE dataSet (id INTEGER PRIMARY KEY NOT NULL, \n",
    "                         keyword INTEGER NOT NULL REFERENCES keywordList (id)\n",
    "                         ON DELETE NO ACTION ON UPDATE NO ACTION,\n",
    "                         name VARCHAR(40) NOT NULL,\n",
    "                         categoryID INTEGER NOT NULL REFERENCES categoryList (id)\n",
    "                         ON DELETE NO ACTION ON UPDATE NO ACTION, \n",
    "                         rating REAL NOT NULL,\n",
    "                         downloadCounter INTEGER NOT NULL,\n",
    "                         updatePeriod INTEGER NOT NULL REFERENCES periodList (id)\n",
    "                         ON DELETE NO ACTION ON UPDATE NO ACTION);\n",
    "          ''', False)"
   ]
  },
  {
   "cell_type": "code",
   "execution_count": 15,
   "id": "b2c64f8b-e5ee-47eb-ab89-65ea273a640e",
   "metadata": {},
   "outputs": [
    {
     "data": {
      "text/html": [
       "<div>\n",
       "<style scoped>\n",
       "    .dataframe tbody tr th:only-of-type {\n",
       "        vertical-align: middle;\n",
       "    }\n",
       "\n",
       "    .dataframe tbody tr th {\n",
       "        vertical-align: top;\n",
       "    }\n",
       "\n",
       "    .dataframe thead th {\n",
       "        text-align: right;\n",
       "    }\n",
       "</style>\n",
       "<table border=\"1\" class=\"dataframe\">\n",
       "  <thead>\n",
       "    <tr style=\"text-align: right;\">\n",
       "      <th></th>\n",
       "      <th>name</th>\n",
       "    </tr>\n",
       "  </thead>\n",
       "  <tbody>\n",
       "    <tr>\n",
       "      <th>0</th>\n",
       "      <td>periodList</td>\n",
       "    </tr>\n",
       "    <tr>\n",
       "      <th>1</th>\n",
       "      <td>categoryList</td>\n",
       "    </tr>\n",
       "    <tr>\n",
       "      <th>2</th>\n",
       "      <td>actionList</td>\n",
       "    </tr>\n",
       "    <tr>\n",
       "      <th>3</th>\n",
       "      <td>keywordList</td>\n",
       "    </tr>\n",
       "    <tr>\n",
       "      <th>4</th>\n",
       "      <td>authority</td>\n",
       "    </tr>\n",
       "    <tr>\n",
       "      <th>5</th>\n",
       "      <td>worker</td>\n",
       "    </tr>\n",
       "    <tr>\n",
       "      <th>6</th>\n",
       "      <td>log</td>\n",
       "    </tr>\n",
       "    <tr>\n",
       "      <th>7</th>\n",
       "      <td>dataSet</td>\n",
       "    </tr>\n",
       "  </tbody>\n",
       "</table>\n",
       "</div>"
      ],
      "text/plain": [
       "           name\n",
       "0    periodList\n",
       "1  categoryList\n",
       "2    actionList\n",
       "3   keywordList\n",
       "4     authority\n",
       "5        worker\n",
       "6           log\n",
       "7       dataSet"
      ]
     },
     "execution_count": 15,
     "metadata": {},
     "output_type": "execute_result"
    }
   ],
   "source": [
    "#Посмотреть список всех таблиц в базе данных\n",
    "query_sql('shumskiiIN.db','SELECT name FROM sqlite_master WHERE type=\\'table\\';')"
   ]
  },
  {
   "cell_type": "code",
   "execution_count": 16,
   "id": "8d381a74-49ae-4e9d-a457-ebb4683cb40f",
   "metadata": {},
   "outputs": [
    {
     "name": "stdout",
     "output_type": "stream",
     "text": [
      "Заполнение списка таблиц БД\n"
     ]
    },
    {
     "data": {
      "application/vnd.jupyter.widget-view+json": {
       "model_id": "414a7524b91d4e909eeb2ed04b354b8a",
       "version_major": 2,
       "version_minor": 0
      },
      "text/plain": [
       "Button(description='Cписок таблиц', style=ButtonStyle())"
      ]
     },
     "metadata": {},
     "output_type": "display_data"
    },
    {
     "data": {
      "application/vnd.jupyter.widget-view+json": {
       "model_id": "f5b717e28aa149059ccb5e54b943067f",
       "version_major": 2,
       "version_minor": 0
      },
      "text/plain": [
       "Output()"
      ]
     },
     "metadata": {},
     "output_type": "display_data"
    }
   ],
   "source": [
    "from ipywidgets import widgets\n",
    "from IPython.display import clear_output\n",
    "style = {'description_width': 'initial'}\n",
    "list_tables_button = widgets.Button(description=\"Cписок таблиц\", style = style)\n",
    "\n",
    "output = widgets.Output()\n",
    "print('Заполнение списка таблиц БД')\n",
    "display(list_tables_button,output)\n",
    "\n",
    "def on_list_button_clicked(b):\n",
    "    with output:\n",
    "        clear_output()\n",
    "        display(query_sql('shumskiiIN.db','SELECT name FROM sqlite_master WHERE type=\\'table\\';'))\n",
    "    \n",
    "list_tables_button.on_click(on_list_button_clicked)"
   ]
  },
  {
   "cell_type": "markdown",
   "id": "201e44f4-daba-453a-927a-5ce448035c36",
   "metadata": {},
   "source": [
    "# Создание экранных форм"
   ]
  },
  {
   "cell_type": "code",
   "execution_count": 18,
   "id": "8e16d0a2-9103-470f-aa6e-a4e7a1ee8938",
   "metadata": {},
   "outputs": [
    {
     "name": "stdout",
     "output_type": "stream",
     "text": [
      "Заполнение таблицы authority\n"
     ]
    },
    {
     "data": {
      "application/vnd.jupyter.widget-view+json": {
       "model_id": "3c059fb1cedd461a90c4d54450bfaa7d",
       "version_major": 2,
       "version_minor": 0
      },
      "text/plain": [
       "IntText(value=1, description='id:')"
      ]
     },
     "metadata": {},
     "output_type": "display_data"
    },
    {
     "data": {
      "application/vnd.jupyter.widget-view+json": {
       "model_id": "8955efed0c4b471bb9b60ea98fc07c20",
       "version_major": 2,
       "version_minor": 0
      },
      "text/plain": [
       "Text(value='Название ОИВ', description='Наименование:')"
      ]
     },
     "metadata": {},
     "output_type": "display_data"
    },
    {
     "data": {
      "application/vnd.jupyter.widget-view+json": {
       "model_id": "e71ff6b7322e4e4a9824eb96684a2bc1",
       "version_major": 2,
       "version_minor": 0
      },
      "text/plain": [
       "Text(value='Сокращенное название', description='Сокращенное наименование:')"
      ]
     },
     "metadata": {},
     "output_type": "display_data"
    },
    {
     "data": {
      "application/vnd.jupyter.widget-view+json": {
       "model_id": "0de8901e28fd44559909bd8ec724511e",
       "version_major": 2,
       "version_minor": 0
      },
      "text/plain": [
       "Text(value='Иванов', description='Фамилия:')"
      ]
     },
     "metadata": {},
     "output_type": "display_data"
    },
    {
     "data": {
      "application/vnd.jupyter.widget-view+json": {
       "model_id": "1e0aae7609cd4c8e9722d0d2543dcc30",
       "version_major": 2,
       "version_minor": 0
      },
      "text/plain": [
       "Text(value='Иван', description='Имя:')"
      ]
     },
     "metadata": {},
     "output_type": "display_data"
    },
    {
     "data": {
      "application/vnd.jupyter.widget-view+json": {
       "model_id": "89405b66d1f64ad2af506950b10ef8d5",
       "version_major": 2,
       "version_minor": 0
      },
      "text/plain": [
       "Text(value='Иванович', description='Отчество:')"
      ]
     },
     "metadata": {},
     "output_type": "display_data"
    },
    {
     "data": {
      "application/vnd.jupyter.widget-view+json": {
       "model_id": "fa3fc8d1c80a4e579761fc7c38095272",
       "version_major": 2,
       "version_minor": 0
      },
      "text/plain": [
       "Text(value='sample@mos.ru', description='E-mail:')"
      ]
     },
     "metadata": {},
     "output_type": "display_data"
    },
    {
     "data": {
      "application/vnd.jupyter.widget-view+json": {
       "model_id": "343e65459e35430b87fc65e2ed1884ee",
       "version_major": 2,
       "version_minor": 0
      },
      "text/plain": [
       "IntText(value=79123456789, description='Номер телефона:', style=DescriptionStyle(description_width='initial'))"
      ]
     },
     "metadata": {},
     "output_type": "display_data"
    },
    {
     "data": {
      "application/vnd.jupyter.widget-view+json": {
       "model_id": "75da812f7512481d961aff0a427568a7",
       "version_major": 2,
       "version_minor": 0
      },
      "text/plain": [
       "Text(value='mos.ru', description='Домен:')"
      ]
     },
     "metadata": {},
     "output_type": "display_data"
    },
    {
     "data": {
      "application/vnd.jupyter.widget-view+json": {
       "model_id": "9376e5a568434adfbdf41b61999b927d",
       "version_major": 2,
       "version_minor": 0
      },
      "text/plain": [
       "Text(value='Тверская', description='Улица:')"
      ]
     },
     "metadata": {},
     "output_type": "display_data"
    },
    {
     "data": {
      "application/vnd.jupyter.widget-view+json": {
       "model_id": "9f07f73296884daf930dd7e7d1c1fd35",
       "version_major": 2,
       "version_minor": 0
      },
      "text/plain": [
       "IntText(value=13, description='Номер дома:', style=DescriptionStyle(description_width='initial'))"
      ]
     },
     "metadata": {},
     "output_type": "display_data"
    },
    {
     "data": {
      "application/vnd.jupyter.widget-view+json": {
       "model_id": "a9e8ad3afc0b471cae91a951aae97844",
       "version_major": 2,
       "version_minor": 0
      },
      "text/plain": [
       "IntText(value=1, description='Строение/корпус:', style=DescriptionStyle(description_width='initial'))"
      ]
     },
     "metadata": {},
     "output_type": "display_data"
    },
    {
     "data": {
      "application/vnd.jupyter.widget-view+json": {
       "model_id": "d9ecfcac9f8a413dbb65a0797aa35528",
       "version_major": 2,
       "version_minor": 0
      },
      "text/plain": [
       "IntText(value=770000000000, description='ИНН:')"
      ]
     },
     "metadata": {},
     "output_type": "display_data"
    },
    {
     "data": {
      "application/vnd.jupyter.widget-view+json": {
       "model_id": "d4bfd83d9700431f9b9f3116f4ae0ae4",
       "version_major": 2,
       "version_minor": 0
      },
      "text/plain": [
       "IntText(value=770000000, description='КПП:')"
      ]
     },
     "metadata": {},
     "output_type": "display_data"
    },
    {
     "data": {
      "application/vnd.jupyter.widget-view+json": {
       "model_id": "2fbfdd272858448f8f1d88f71d649c2b",
       "version_major": 2,
       "version_minor": 0
      },
      "text/plain": [
       "IntText(value=770000000, description='КПП:')"
      ]
     },
     "metadata": {},
     "output_type": "display_data"
    },
    {
     "data": {
      "application/vnd.jupyter.widget-view+json": {
       "model_id": "362fe0de464f47c9932cf15e6f11d4f7",
       "version_major": 2,
       "version_minor": 0
      },
      "text/plain": [
       "Button(description='Записать в  БД', style=ButtonStyle())"
      ]
     },
     "metadata": {},
     "output_type": "display_data"
    }
   ],
   "source": [
    "import ipywidgets as widgets #Подключаем библиотеку виджетов\n",
    "from IPython.display import display # импортируем функцию для визуализации виджетов\n",
    "\n",
    "style = {'description_width': 'initial'} #Делаем установку ширины поля discription под размер текста в нем\n",
    "id = widgets.IntText(value=1, description='id:', disabled=False)\n",
    "name = widgets.Text(value='Название ОИВ', description='Наименование:', disabled=False)\n",
    "shortName = widgets.Text(value='Сокращенное название', description='Сокращенное наименование:', disabled=False)\n",
    "lastName = widgets.Text(value='Иванов', description='Фамилия:', disabled=False)\n",
    "firstName = widgets.Text(value='Иван', description='Имя:', disabled=False)\n",
    "middleName = widgets.Text(value='Иванович', description='Отчество:', disabled=False)\n",
    "email = widgets.Text(value='sample@mos.ru', description='E-mail:', disabled=False)\n",
    "tel = widgets.IntText(value=79123456789, description='Номер телефона:', disabled=False, style=style)\n",
    "domain = widgets.Text(value='mos.ru', description='Домен:', disabled=False)\n",
    "street = widgets.Text(value='Тверская', description='Улица:', disabled=False)\n",
    "home = widgets.IntText(value=13, description='Номер дома:', disabled=False, style=style)\n",
    "block = widgets.IntText(value=1, description='Строение/корпус:', disabled=False, style=style)\n",
    "INN = widgets.IntText(value=770000000000, description='ИНН:', disabled=False)\n",
    "KPP = widgets.IntText(value=770000000, description='КПП:', disabled=False)\n",
    "OKOGU = widgets.IntText(value=770000000, description='КПП:', disabled=False)\n",
    "button = widgets.Button(description='Записать в  БД', disabled=False, button_style='')\n",
    "print('Заполнение таблицы authority')\n",
    "display(id, name, shortName, lastName, firstName, middleName, email, tel, domain, street, home, block, INN, KPP, OKOGU, button)\n",
    "\n",
    "def button_clicked(b):\n",
    "    query = 'INSERT INTO authority (id, name, shortName, lastName, firstName, middleName, email, tel, domain, street, home, block, INN, KPP, OKOGU) VALUES '\n",
    "    query += '(' + str(id.value) + ',' + '\\''+ name.value + '\\'' + ',' + '\\''+ shortName.value + '\\'' + ','\n",
    "    query += '\\''+ lastName.value + '\\'' + ',' + '\\''+ firstName.value + '\\'' + ','\n",
    "    query += '\\'' + middleName.value + '\\'' + ',' + '\\''+ email.value + '\\'' + ',' + str(tel.value) + ','\n",
    "    query += '\\'' + domain.value + '\\'' + ',' + '\\''+ street.value + '\\'' + ',' + str(home.value) + ','\n",
    "    query += str(block.value) + ',' + str(INN.value) + ',' + str(KPP.value) + ',' + str(OKOGU.value) + ');'\n",
    "    print(query_sql)\n",
    "    query_sql('shumskiiIN.db', query, False)\n",
    "    \n",
    "    \n",
    "button.on_click(button_clicked)"
   ]
  }
 ],
 "metadata": {
  "kernelspec": {
   "display_name": "Python 3 (ipykernel)",
   "language": "python",
   "name": "python3"
  },
  "language_info": {
   "codemirror_mode": {
    "name": "ipython",
    "version": 3
   },
   "file_extension": ".py",
   "mimetype": "text/x-python",
   "name": "python",
   "nbconvert_exporter": "python",
   "pygments_lexer": "ipython3",
   "version": "3.12.1"
  }
 },
 "nbformat": 4,
 "nbformat_minor": 5
}
