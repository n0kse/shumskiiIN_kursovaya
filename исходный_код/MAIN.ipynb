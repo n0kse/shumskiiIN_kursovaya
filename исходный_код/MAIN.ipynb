{
 "cells": [
  {
   "cell_type": "code",
   "execution_count": 1,
   "id": "4d469448-6909-4c1d-8401-b171638317e9",
   "metadata": {},
   "outputs": [
    {
     "name": "stdout",
     "output_type": "stream",
     "text": [
      "База данных создана и успешно подключена к SQLite\n",
      "Версия базы данных SQLite:  [('3.43.1',)]\n",
      "Соединение с SQLite закрыто\n"
     ]
    }
   ],
   "source": [
    "import sqlite3 # импортируем библиотеку по работе с базой данных\n",
    "try:\n",
    "    sqlite_connection = sqlite3.connect('shumskiiIN.db') #создаем переменную подключения к БД\n",
    "    cursor = sqlite_connection.cursor() #создаем специальную переменную по работе с БД\n",
    "    print(\"База данных создана и успешно подключена к SQLite\")\n",
    "\n",
    "    sqlite_select_query = \"SELECT sqlite_version();\" #пишем запрос получение версии библиотеки sqlite \n",
    "    cursor.execute(sqlite_select_query) #выполняем запрос, после чего в буфере содержится текст результата\n",
    "    record = cursor.fetchall() #читаем все содержимое буфера в переменную record\n",
    "    print(\"Версия базы данных SQLite: \", record)\n",
    "    cursor.close() #закрываем курсор по работе с БД\n",
    "\n",
    "except sqlite3.Error as error:\n",
    "    print(\"Ошибка при подключении к sqlite\", error) # если при попытке подключения к БД возникли ошибки, выводим их\n",
    "finally:\n",
    "    if (sqlite_connection):\n",
    "        sqlite_connection.close() #если соединение с БД открыто, закрываем его\n",
    "        print(\"Соединение с SQLite закрыто\")"
   ]
  },
  {
   "cell_type": "code",
   "execution_count": 2,
   "id": "e65f9e45-8e4e-4d87-8515-754dd1f9c9b5",
   "metadata": {},
   "outputs": [
    {
     "name": "stdout",
     "output_type": "stream",
     "text": [
      "База данных подключена к SQLite\n",
      "Таблица periodList создана\n",
      "Таблица categoryList создана\n",
      "Таблица actionList создана\n",
      "Таблица keywordList создана\n",
      "Соединение с SQLite закрыто\n"
     ]
    }
   ],
   "source": [
    "import sqlite3\n",
    "try:\n",
    "    sqlite_connection = sqlite3.connect('shumskiiIN.db')\n",
    "# Создаем sql-запросы на создание таблиц, записываем для удобства их в переменные с одноименным названием\n",
    "    periodList = 'CREATE TABLE periodList (id INTEGER PRIMARY KEY NOT NULL, period VARCHAR(30) NOT NULL);'\n",
    "    categoryList = 'CREATE TABLE categoryList (id INTEGER PRIMARY KEY NOT NULL, category VARCHAR(30) NOT NULL);'\n",
    "    actionList = 'CREATE TABLE actionList (id INTEGER PRIMARY KEY NOT NULL, action VARCHAR(30) NOT NULL);'\n",
    "    keywordList = 'CREATE TABLE keywordList (id INTEGER PRIMARY KEY NOT NULL, keyword VARCHAR(30) NOT NULL);'\n",
    "    \n",
    "    cursor = sqlite_connection.cursor()\n",
    "    print(\"База данных подключена к SQLite\")\n",
    "    cursor.execute(periodList)\n",
    "    sqlite_connection.commit()\n",
    "    print(\"Таблица periodList создана\")\n",
    "\n",
    "    cursor.execute(categoryList)\n",
    "    sqlite_connection.commit()\n",
    "    print(\"Таблица categoryList создана\")\n",
    "\n",
    "    cursor.execute(actionList)\n",
    "    sqlite_connection.commit()\n",
    "    print(\"Таблица actionList создана\")\n",
    "    \n",
    "    cursor.execute(keywordList)\n",
    "    sqlite_connection.commit()\n",
    "    print(\"Таблица keywordList создана\")\n",
    "\n",
    "    cursor.close()\n",
    "\n",
    "except sqlite3.Error as error:\n",
    "    print(\"Ошибка при подключении к sqlite\", error)\n",
    "finally:\n",
    "    if (sqlite_connection):\n",
    "        sqlite_connection.close()\n",
    "        print(\"Соединение с SQLite закрыто\")"
   ]
  },
  {
   "cell_type": "code",
   "execution_count": 3,
   "id": "bdd87510-9ef3-4dbc-a0d0-90eea47c8e2f",
   "metadata": {},
   "outputs": [
    {
     "name": "stdout",
     "output_type": "stream",
     "text": [
      "Соединение с SQLite закрыто\n"
     ]
    }
   ],
   "source": [
    "# Заполнение таблицы periodList\n",
    "import sqlite3\n",
    "try:\n",
    "    sqlite_connection = sqlite3.connect('shumskiiIN.db')\n",
    "    filling_periodList = '''INSERT INTO periodList (id, period) VALUES\n",
    "                        (1, 'Ежемесячно'),\n",
    "                        (2, 'Ежеквартально'),\n",
    "                        (3, 'Ежегодно');\n",
    "                      '''\n",
    "    cursor = sqlite_connection.cursor()\n",
    "    cursor.execute(filling_periodList)\n",
    "    sqlite_connection.commit()\n",
    "    cursor.close()\n",
    "except sqlite3.Error as error:\n",
    "    print(\"Ошибка при подключении к sqlite\", error)\n",
    "finally:\n",
    "    if (sqlite_connection):\n",
    "        sqlite_connection.close()\n",
    "        print(\"Соединение с SQLite закрыто\")"
   ]
  },
  {
   "cell_type": "code",
   "execution_count": 4,
   "id": "7e5cba8e-2a75-4daa-be83-7f8657bd704d",
   "metadata": {},
   "outputs": [
    {
     "name": "stdout",
     "output_type": "stream",
     "text": [
      "Соединение с SQLite закрыто\n"
     ]
    }
   ],
   "source": [
    "# Заполнение таблицы periodList\n",
    "import sqlite3\n",
    "try:\n",
    "    sqlite_connection = sqlite3.connect('shumskiiIN.db')\n",
    "    filling_categoryList = '''INSERT INTO categoryList (id, category) VALUES\n",
    "                        (1, 'Активный гражданин'),\n",
    "                        (2, 'Выборы'),\n",
    "                        (3, 'Дороги и транспорт'),\n",
    "                        (4, 'Жилищно-коммунальное хозяйство'),\n",
    "                        (5, 'Здравоохранение'),\n",
    "                        (6, 'Культура'),\n",
    "                        (7, 'Общественное питание'),\n",
    "                        (8, 'Пешеходная инфраструктура'),\n",
    "                        (9, 'Религиозные объекты'),\n",
    "                        (10, 'Социальная среда'),\n",
    "                        (11, 'Строительство'),\n",
    "                        (12, 'Торговля'),\n",
    "                        (13, 'Безопасность'),\n",
    "                        (14, 'Государственные услуги'),\n",
    "                        (15, 'Досуг и отдых'),\n",
    "                        (16, 'Забота о животных'),\n",
    "                        (17, 'Земля и имущество'),\n",
    "                        (18, 'Образование'),\n",
    "                        (19, 'Органы государственной власти'),\n",
    "                        (20, 'Предпринимательство'),\n",
    "                        (21, 'Связь'),\n",
    "                        (22, 'Справочная информация'),\n",
    "                        (23, 'Территориальное деление'),\n",
    "                        (24, 'Трудоустройство');\n",
    "                      '''\n",
    "    cursor = sqlite_connection.cursor()\n",
    "    cursor.execute(filling_categoryList)\n",
    "    sqlite_connection.commit()\n",
    "    cursor.close()\n",
    "except sqlite3.Error as error:\n",
    "    print(\"Ошибка при подключении к sqlite\", error)\n",
    "finally:\n",
    "    if (sqlite_connection):\n",
    "        sqlite_connection.close()\n",
    "        print(\"Соединение с SQLite закрыто\")"
   ]
  },
  {
   "cell_type": "code",
   "execution_count": 5,
   "id": "e77f6aa1-b10a-4382-b7f3-c8854d3f0760",
   "metadata": {},
   "outputs": [
    {
     "name": "stdout",
     "output_type": "stream",
     "text": [
      "Соединение с SQLite закрыто\n"
     ]
    }
   ],
   "source": [
    "# Заполнение таблицы periodList\n",
    "import sqlite3\n",
    "try:\n",
    "    sqlite_connection = sqlite3.connect('shumskiiIN.db')\n",
    "    filling_actionList = '''INSERT INTO actionList (id, action) VALUES\n",
    "                        (1, 'Опубликован'),\n",
    "                        (2, 'Архивирован'),\n",
    "                        (3, 'Изъят из публичного доступа');\n",
    "                      '''\n",
    "    cursor = sqlite_connection.cursor()\n",
    "    cursor.execute(filling_actionList)\n",
    "    sqlite_connection.commit()\n",
    "    cursor.close()\n",
    "except sqlite3.Error as error:\n",
    "    print(\"Ошибка при подключении к sqlite\", error)\n",
    "finally:\n",
    "    if (sqlite_connection):\n",
    "        sqlite_connection.close()\n",
    "        print(\"Соединение с SQLite закрыто\")"
   ]
  },
  {
   "cell_type": "code",
   "execution_count": 6,
   "id": "6c5b5662-f6b6-4745-a3b2-033c59acebe7",
   "metadata": {},
   "outputs": [
    {
     "name": "stdout",
     "output_type": "stream",
     "text": [
      "Соединение с SQLite закрыто\n"
     ]
    }
   ],
   "source": [
    "# Заполнение таблицы keywordList\n",
    "import sqlite3\n",
    "try:\n",
    "    sqlite_connection = sqlite3.connect('shumskiiIN.db')\n",
    "    filling_keywordList = '''INSERT INTO keywordList (id, keyword) VALUES\n",
    "                        (1, 'Зимние'),\n",
    "                        (2, 'Летние'),\n",
    "                        (3, 'Всесезонные');\n",
    "                      '''\n",
    "    cursor = sqlite_connection.cursor()\n",
    "    cursor.execute(filling_keywordList)\n",
    "    sqlite_connection.commit()\n",
    "    cursor.close()\n",
    "except sqlite3.Error as error:\n",
    "    print(\"Ошибка при подключении к sqlite\", error)\n",
    "finally:\n",
    "    if (sqlite_connection):\n",
    "        sqlite_connection.close()\n",
    "        print(\"Соединение с SQLite закрыто\")"
   ]
  },
  {
   "cell_type": "code",
   "execution_count": 7,
   "id": "4a577264-ea55-4004-9724-a7a81324d7fb",
   "metadata": {},
   "outputs": [],
   "source": [
    "#Функция реализует запрос на чтение к базе данных\n",
    "def query_sql (db, query):\n",
    "  sqlite_connection = sqlite3.connect(db)\n",
    "  cursor = sqlite_connection.cursor()\n",
    "  cursor.execute(query)\n",
    "  sqlite_connection.commit()\n",
    "  rows = cursor.fetchall()\n",
    "  names = tuple(map(lambda x: x[0], cursor.description))\n",
    "  cursor.close()\n",
    "  sqlite_connection.close()\n",
    "  import pandas as pd\n",
    "  import numpy as np\n",
    "  aa=np.array(rows)\n",
    "  dd=pd.DataFrame(aa, columns=names)\n",
    "  display(dd)"
   ]
  },
  {
   "cell_type": "code",
   "execution_count": 8,
   "id": "0630b617-3345-4bab-bcc7-66c0dbefd7d1",
   "metadata": {},
   "outputs": [
    {
     "data": {
      "text/html": [
       "<div>\n",
       "<style scoped>\n",
       "    .dataframe tbody tr th:only-of-type {\n",
       "        vertical-align: middle;\n",
       "    }\n",
       "\n",
       "    .dataframe tbody tr th {\n",
       "        vertical-align: top;\n",
       "    }\n",
       "\n",
       "    .dataframe thead th {\n",
       "        text-align: right;\n",
       "    }\n",
       "</style>\n",
       "<table border=\"1\" class=\"dataframe\">\n",
       "  <thead>\n",
       "    <tr style=\"text-align: right;\">\n",
       "      <th></th>\n",
       "      <th>id</th>\n",
       "      <th>period</th>\n",
       "    </tr>\n",
       "  </thead>\n",
       "  <tbody>\n",
       "    <tr>\n",
       "      <th>0</th>\n",
       "      <td>1</td>\n",
       "      <td>Ежемесячно</td>\n",
       "    </tr>\n",
       "    <tr>\n",
       "      <th>1</th>\n",
       "      <td>2</td>\n",
       "      <td>Ежеквартально</td>\n",
       "    </tr>\n",
       "    <tr>\n",
       "      <th>2</th>\n",
       "      <td>3</td>\n",
       "      <td>Ежегодно</td>\n",
       "    </tr>\n",
       "  </tbody>\n",
       "</table>\n",
       "</div>"
      ],
      "text/plain": [
       "  id         period\n",
       "0  1     Ежемесячно\n",
       "1  2  Ежеквартально\n",
       "2  3       Ежегодно"
      ]
     },
     "metadata": {},
     "output_type": "display_data"
    },
    {
     "data": {
      "text/html": [
       "<div>\n",
       "<style scoped>\n",
       "    .dataframe tbody tr th:only-of-type {\n",
       "        vertical-align: middle;\n",
       "    }\n",
       "\n",
       "    .dataframe tbody tr th {\n",
       "        vertical-align: top;\n",
       "    }\n",
       "\n",
       "    .dataframe thead th {\n",
       "        text-align: right;\n",
       "    }\n",
       "</style>\n",
       "<table border=\"1\" class=\"dataframe\">\n",
       "  <thead>\n",
       "    <tr style=\"text-align: right;\">\n",
       "      <th></th>\n",
       "      <th>id</th>\n",
       "      <th>action</th>\n",
       "    </tr>\n",
       "  </thead>\n",
       "  <tbody>\n",
       "    <tr>\n",
       "      <th>0</th>\n",
       "      <td>1</td>\n",
       "      <td>Опубликован</td>\n",
       "    </tr>\n",
       "    <tr>\n",
       "      <th>1</th>\n",
       "      <td>2</td>\n",
       "      <td>Архивирован</td>\n",
       "    </tr>\n",
       "    <tr>\n",
       "      <th>2</th>\n",
       "      <td>3</td>\n",
       "      <td>Изъят из публичного доступа</td>\n",
       "    </tr>\n",
       "  </tbody>\n",
       "</table>\n",
       "</div>"
      ],
      "text/plain": [
       "  id                       action\n",
       "0  1                  Опубликован\n",
       "1  2                  Архивирован\n",
       "2  3  Изъят из публичного доступа"
      ]
     },
     "metadata": {},
     "output_type": "display_data"
    },
    {
     "data": {
      "text/html": [
       "<div>\n",
       "<style scoped>\n",
       "    .dataframe tbody tr th:only-of-type {\n",
       "        vertical-align: middle;\n",
       "    }\n",
       "\n",
       "    .dataframe tbody tr th {\n",
       "        vertical-align: top;\n",
       "    }\n",
       "\n",
       "    .dataframe thead th {\n",
       "        text-align: right;\n",
       "    }\n",
       "</style>\n",
       "<table border=\"1\" class=\"dataframe\">\n",
       "  <thead>\n",
       "    <tr style=\"text-align: right;\">\n",
       "      <th></th>\n",
       "      <th>id</th>\n",
       "      <th>category</th>\n",
       "    </tr>\n",
       "  </thead>\n",
       "  <tbody>\n",
       "    <tr>\n",
       "      <th>0</th>\n",
       "      <td>1</td>\n",
       "      <td>Активный гражданин</td>\n",
       "    </tr>\n",
       "    <tr>\n",
       "      <th>1</th>\n",
       "      <td>2</td>\n",
       "      <td>Выборы</td>\n",
       "    </tr>\n",
       "    <tr>\n",
       "      <th>2</th>\n",
       "      <td>3</td>\n",
       "      <td>Дороги и транспорт</td>\n",
       "    </tr>\n",
       "    <tr>\n",
       "      <th>3</th>\n",
       "      <td>4</td>\n",
       "      <td>Жилищно-коммунальное хозяйство</td>\n",
       "    </tr>\n",
       "    <tr>\n",
       "      <th>4</th>\n",
       "      <td>5</td>\n",
       "      <td>Здравоохранение</td>\n",
       "    </tr>\n",
       "    <tr>\n",
       "      <th>5</th>\n",
       "      <td>6</td>\n",
       "      <td>Культура</td>\n",
       "    </tr>\n",
       "    <tr>\n",
       "      <th>6</th>\n",
       "      <td>7</td>\n",
       "      <td>Общественное питание</td>\n",
       "    </tr>\n",
       "    <tr>\n",
       "      <th>7</th>\n",
       "      <td>8</td>\n",
       "      <td>Пешеходная инфраструктура</td>\n",
       "    </tr>\n",
       "    <tr>\n",
       "      <th>8</th>\n",
       "      <td>9</td>\n",
       "      <td>Религиозные объекты</td>\n",
       "    </tr>\n",
       "    <tr>\n",
       "      <th>9</th>\n",
       "      <td>10</td>\n",
       "      <td>Социальная среда</td>\n",
       "    </tr>\n",
       "    <tr>\n",
       "      <th>10</th>\n",
       "      <td>11</td>\n",
       "      <td>Строительство</td>\n",
       "    </tr>\n",
       "    <tr>\n",
       "      <th>11</th>\n",
       "      <td>12</td>\n",
       "      <td>Торговля</td>\n",
       "    </tr>\n",
       "    <tr>\n",
       "      <th>12</th>\n",
       "      <td>13</td>\n",
       "      <td>Безопасность</td>\n",
       "    </tr>\n",
       "    <tr>\n",
       "      <th>13</th>\n",
       "      <td>14</td>\n",
       "      <td>Государственные услуги</td>\n",
       "    </tr>\n",
       "    <tr>\n",
       "      <th>14</th>\n",
       "      <td>15</td>\n",
       "      <td>Досуг и отдых</td>\n",
       "    </tr>\n",
       "    <tr>\n",
       "      <th>15</th>\n",
       "      <td>16</td>\n",
       "      <td>Забота о животных</td>\n",
       "    </tr>\n",
       "    <tr>\n",
       "      <th>16</th>\n",
       "      <td>17</td>\n",
       "      <td>Земля и имущество</td>\n",
       "    </tr>\n",
       "    <tr>\n",
       "      <th>17</th>\n",
       "      <td>18</td>\n",
       "      <td>Образование</td>\n",
       "    </tr>\n",
       "    <tr>\n",
       "      <th>18</th>\n",
       "      <td>19</td>\n",
       "      <td>Органы государственной власти</td>\n",
       "    </tr>\n",
       "    <tr>\n",
       "      <th>19</th>\n",
       "      <td>20</td>\n",
       "      <td>Предпринимательство</td>\n",
       "    </tr>\n",
       "    <tr>\n",
       "      <th>20</th>\n",
       "      <td>21</td>\n",
       "      <td>Связь</td>\n",
       "    </tr>\n",
       "    <tr>\n",
       "      <th>21</th>\n",
       "      <td>22</td>\n",
       "      <td>Справочная информация</td>\n",
       "    </tr>\n",
       "    <tr>\n",
       "      <th>22</th>\n",
       "      <td>23</td>\n",
       "      <td>Территориальное деление</td>\n",
       "    </tr>\n",
       "    <tr>\n",
       "      <th>23</th>\n",
       "      <td>24</td>\n",
       "      <td>Трудоустройство</td>\n",
       "    </tr>\n",
       "  </tbody>\n",
       "</table>\n",
       "</div>"
      ],
      "text/plain": [
       "    id                        category\n",
       "0    1              Активный гражданин\n",
       "1    2                          Выборы\n",
       "2    3              Дороги и транспорт\n",
       "3    4  Жилищно-коммунальное хозяйство\n",
       "4    5                 Здравоохранение\n",
       "5    6                        Культура\n",
       "6    7            Общественное питание\n",
       "7    8       Пешеходная инфраструктура\n",
       "8    9             Религиозные объекты\n",
       "9   10                Социальная среда\n",
       "10  11                   Строительство\n",
       "11  12                        Торговля\n",
       "12  13                    Безопасность\n",
       "13  14          Государственные услуги\n",
       "14  15                   Досуг и отдых\n",
       "15  16               Забота о животных\n",
       "16  17               Земля и имущество\n",
       "17  18                     Образование\n",
       "18  19   Органы государственной власти\n",
       "19  20             Предпринимательство\n",
       "20  21                           Связь\n",
       "21  22           Справочная информация\n",
       "22  23         Территориальное деление\n",
       "23  24                 Трудоустройство"
      ]
     },
     "metadata": {},
     "output_type": "display_data"
    },
    {
     "data": {
      "text/html": [
       "<div>\n",
       "<style scoped>\n",
       "    .dataframe tbody tr th:only-of-type {\n",
       "        vertical-align: middle;\n",
       "    }\n",
       "\n",
       "    .dataframe tbody tr th {\n",
       "        vertical-align: top;\n",
       "    }\n",
       "\n",
       "    .dataframe thead th {\n",
       "        text-align: right;\n",
       "    }\n",
       "</style>\n",
       "<table border=\"1\" class=\"dataframe\">\n",
       "  <thead>\n",
       "    <tr style=\"text-align: right;\">\n",
       "      <th></th>\n",
       "      <th>id</th>\n",
       "      <th>keyword</th>\n",
       "    </tr>\n",
       "  </thead>\n",
       "  <tbody>\n",
       "    <tr>\n",
       "      <th>0</th>\n",
       "      <td>1</td>\n",
       "      <td>Зимние</td>\n",
       "    </tr>\n",
       "    <tr>\n",
       "      <th>1</th>\n",
       "      <td>2</td>\n",
       "      <td>Летние</td>\n",
       "    </tr>\n",
       "    <tr>\n",
       "      <th>2</th>\n",
       "      <td>3</td>\n",
       "      <td>Всесезонные</td>\n",
       "    </tr>\n",
       "  </tbody>\n",
       "</table>\n",
       "</div>"
      ],
      "text/plain": [
       "  id      keyword\n",
       "0  1       Зимние\n",
       "1  2       Летние\n",
       "2  3  Всесезонные"
      ]
     },
     "metadata": {},
     "output_type": "display_data"
    }
   ],
   "source": [
    "query_sql('shumskiiIN.db','SELECT * FROM periodList;')\n",
    "query_sql('shumskiiIN.db','SELECT * FROM actionList;')\n",
    "query_sql('shumskiiIN.db','SELECT * FROM categoryList;')\n",
    "query_sql('shumskiiIN.db','SELECT * FROM keywordList;')"
   ]
  },
  {
   "cell_type": "code",
   "execution_count": 9,
   "id": "65320d5c-3e01-4419-a0d1-5d2c3c699832",
   "metadata": {},
   "outputs": [],
   "source": [
    "#обработчик событий\n",
    "def query_sql (db, query, visible = True):\n",
    "  import sqlite3\n",
    "  sqlite_connection = sqlite3.connect(db)\n",
    "  cursor = sqlite_connection.cursor()\n",
    "  cursor.execute(query)\n",
    "  sqlite_connection.commit()\n",
    "  if visible:\n",
    "    rows = cursor.fetchall()\n",
    "    names = tuple(map(lambda x: x[0], cursor.description))\n",
    "    import pandas as pd\n",
    "    import numpy as np\n",
    "    aa=np.array(rows)\n",
    "    dd=pd.DataFrame(aa, columns=names)\n",
    "    return dd\n",
    "  cursor.close()\n",
    "  sqlite_connection.close()"
   ]
  },
  {
   "cell_type": "code",
   "execution_count": 10,
   "id": "6f8aff18-9d96-461a-b0b9-3b0317d3de39",
   "metadata": {},
   "outputs": [
    {
     "data": {
      "text/html": [
       "<div>\n",
       "<style scoped>\n",
       "    .dataframe tbody tr th:only-of-type {\n",
       "        vertical-align: middle;\n",
       "    }\n",
       "\n",
       "    .dataframe tbody tr th {\n",
       "        vertical-align: top;\n",
       "    }\n",
       "\n",
       "    .dataframe thead th {\n",
       "        text-align: right;\n",
       "    }\n",
       "</style>\n",
       "<table border=\"1\" class=\"dataframe\">\n",
       "  <thead>\n",
       "    <tr style=\"text-align: right;\">\n",
       "      <th></th>\n",
       "      <th>name</th>\n",
       "    </tr>\n",
       "  </thead>\n",
       "  <tbody>\n",
       "    <tr>\n",
       "      <th>0</th>\n",
       "      <td>periodList</td>\n",
       "    </tr>\n",
       "    <tr>\n",
       "      <th>1</th>\n",
       "      <td>categoryList</td>\n",
       "    </tr>\n",
       "    <tr>\n",
       "      <th>2</th>\n",
       "      <td>actionList</td>\n",
       "    </tr>\n",
       "    <tr>\n",
       "      <th>3</th>\n",
       "      <td>keywordList</td>\n",
       "    </tr>\n",
       "  </tbody>\n",
       "</table>\n",
       "</div>"
      ],
      "text/plain": [
       "           name\n",
       "0    periodList\n",
       "1  categoryList\n",
       "2    actionList\n",
       "3   keywordList"
      ]
     },
     "execution_count": 10,
     "metadata": {},
     "output_type": "execute_result"
    }
   ],
   "source": [
    "#Посмотреть список всех таблиц в базе данных\n",
    "query_sql('shumskiiIN.db','SELECT name FROM sqlite_master WHERE type=\\'table\\';')\n"
   ]
  },
  {
   "cell_type": "markdown",
   "id": "c1b36a60-9391-4d8d-a481-991546462bd7",
   "metadata": {},
   "source": [
    "# Создание основных таблиц"
   ]
  },
  {
   "cell_type": "code",
   "execution_count": 11,
   "id": "553e2d1a-0cdf-4537-8806-612e6c106370",
   "metadata": {},
   "outputs": [],
   "source": [
    "#создание таблицы authority\n",
    "query_sql('shumskiiIN.db','''\n",
    "    CREATE TABLE authority (id INTEGER PRIMARY KEY NOT NULL, \n",
    "                            name VARCHAR(50) NOT NULL,\n",
    "                            shortName VARCHAR(30),\n",
    "                            firstName VARCHAR(15) NOT NULL,\n",
    "                            lastName VARCHAR(15) NOT NULL,\n",
    "                            middleName VARCHAR(20), \n",
    "                            email VARCHAR(30) NOT NULL,\n",
    "                            tel INTEGER NOT NULL,\n",
    "                            domain VARCHAR(30) NOT NULL,\n",
    "                            street VARCHAR(30) NOT NULL,\n",
    "                            home INTEGER NOT NULL,\n",
    "                            block INTEGER,\n",
    "                            INN INTEGER NOT NULL,\n",
    "                            KPP INTEGER NOT NULL,\n",
    "                            OKOGU INTEGER NOT NULL);\n",
    "                            \n",
    "            ''', False)"
   ]
  },
  {
   "cell_type": "code",
   "execution_count": 12,
   "id": "448b2e8a-0051-45dc-9852-74e0adecccda",
   "metadata": {},
   "outputs": [],
   "source": [
    "#создание табдицы worker\n",
    "query_sql('shumskiiIN.db','''\n",
    "    CREATE TABLE worker (id INTEGER PRIMARY KEY NOT NULL, \n",
    "                         firstName VARCHAR(15) NOT NULL,\n",
    "                         lastName VARCHAR(15) NOT NULL,\n",
    "                         middleName VARCHAR(20), \n",
    "                         dateBirth VARCHAR(10) NOT NULL,\n",
    "                         position VARCHAR(30) NOT NULL,\n",
    "                         email VARCHAR(30) NOT NULL,\n",
    "                         tel INTEGER NOT NULL,\n",
    "                         placeID INTEGER NOT NULL REFERENCES authority (id)\n",
    "                         ON DELETE NO ACTION ON UPDATE NO ACTION);\n",
    "                                                      \n",
    "            ''', False)"
   ]
  },
  {
   "cell_type": "code",
   "execution_count": 13,
   "id": "36a2377b-44fb-4dac-b085-c8755578a5e3",
   "metadata": {},
   "outputs": [],
   "source": [
    "#создание таблицы log\n",
    "query_sql('shumskiiIN.db','''\n",
    "    CREATE TABLE log (id INTEGER PRIMARY KEY NOT NULL, \n",
    "                      action INTEGER NOT NULL REFERENCES actionList (id)\n",
    "                         ON DELETE NO ACTION ON UPDATE NO ACTION,\n",
    "                      date VARCHAR(10) NOT NULL,\n",
    "                      user INTEGER NOT NULL REFERENCES worker (id)\n",
    "                         ON DELETE NO ACTION ON UPDATE NO ACTION,\n",
    "                      GIS INTEGER NOT NULL,\n",
    "                      dataSet INTEGER NOT NULL REFERENCES dataSet (id)\n",
    "                         ON DELETE NO ACTION ON UPDATE NO ACTION, \n",
    "                      urlXLSX VARCHAR(80),\n",
    "                      urlJSON VARCHAR(80),\n",
    "                      urlCSV VARCHAR(80),\n",
    "                      urlXML VARCHAR(80));\n",
    "            ''', False)"
   ]
  },
  {
   "cell_type": "code",
   "execution_count": 14,
   "id": "0c17b5ba-c315-4cbc-8bd2-81c81cfd35c6",
   "metadata": {},
   "outputs": [],
   "source": [
    "#создание таблицы dataSet\n",
    "query_sql('shumskiiIN.db','''\n",
    "    CREATE TABLE dataSet (id INTEGER PRIMARY KEY NOT NULL,\n",
    "                         name VARCHAR(40) NOT NULL,\n",
    "                         keyword INTEGER NOT NULL REFERENCES keywordList (id)\n",
    "                         ON DELETE NO ACTION ON UPDATE NO ACTION,\n",
    "                         categoryID INTEGER NOT NULL REFERENCES categoryList (id)\n",
    "                         ON DELETE NO ACTION ON UPDATE NO ACTION, \n",
    "                         rating REAL NOT NULL,\n",
    "                         downloadCounter INTEGER NOT NULL,\n",
    "                         updatePeriod INTEGER NOT NULL REFERENCES periodList (id)\n",
    "                         ON DELETE NO ACTION ON UPDATE NO ACTION);\n",
    "          ''', False)"
   ]
  },
  {
   "cell_type": "code",
   "execution_count": 15,
   "id": "b2c64f8b-e5ee-47eb-ab89-65ea273a640e",
   "metadata": {},
   "outputs": [
    {
     "data": {
      "text/html": [
       "<div>\n",
       "<style scoped>\n",
       "    .dataframe tbody tr th:only-of-type {\n",
       "        vertical-align: middle;\n",
       "    }\n",
       "\n",
       "    .dataframe tbody tr th {\n",
       "        vertical-align: top;\n",
       "    }\n",
       "\n",
       "    .dataframe thead th {\n",
       "        text-align: right;\n",
       "    }\n",
       "</style>\n",
       "<table border=\"1\" class=\"dataframe\">\n",
       "  <thead>\n",
       "    <tr style=\"text-align: right;\">\n",
       "      <th></th>\n",
       "      <th>name</th>\n",
       "    </tr>\n",
       "  </thead>\n",
       "  <tbody>\n",
       "    <tr>\n",
       "      <th>0</th>\n",
       "      <td>periodList</td>\n",
       "    </tr>\n",
       "    <tr>\n",
       "      <th>1</th>\n",
       "      <td>categoryList</td>\n",
       "    </tr>\n",
       "    <tr>\n",
       "      <th>2</th>\n",
       "      <td>actionList</td>\n",
       "    </tr>\n",
       "    <tr>\n",
       "      <th>3</th>\n",
       "      <td>keywordList</td>\n",
       "    </tr>\n",
       "    <tr>\n",
       "      <th>4</th>\n",
       "      <td>authority</td>\n",
       "    </tr>\n",
       "    <tr>\n",
       "      <th>5</th>\n",
       "      <td>worker</td>\n",
       "    </tr>\n",
       "    <tr>\n",
       "      <th>6</th>\n",
       "      <td>log</td>\n",
       "    </tr>\n",
       "    <tr>\n",
       "      <th>7</th>\n",
       "      <td>dataSet</td>\n",
       "    </tr>\n",
       "  </tbody>\n",
       "</table>\n",
       "</div>"
      ],
      "text/plain": [
       "           name\n",
       "0    periodList\n",
       "1  categoryList\n",
       "2    actionList\n",
       "3   keywordList\n",
       "4     authority\n",
       "5        worker\n",
       "6           log\n",
       "7       dataSet"
      ]
     },
     "execution_count": 15,
     "metadata": {},
     "output_type": "execute_result"
    }
   ],
   "source": [
    "#Посмотреть список всех таблиц в базе данных\n",
    "query_sql('shumskiiIN.db','SELECT name FROM sqlite_master WHERE type=\\'table\\';')"
   ]
  },
  {
   "cell_type": "code",
   "execution_count": 16,
   "id": "8d381a74-49ae-4e9d-a457-ebb4683cb40f",
   "metadata": {},
   "outputs": [
    {
     "name": "stdout",
     "output_type": "stream",
     "text": [
      "Заполнение списка таблиц БД\n"
     ]
    },
    {
     "data": {
      "application/vnd.jupyter.widget-view+json": {
       "model_id": "a1fdf126beae41f6add8c70e86c9374e",
       "version_major": 2,
       "version_minor": 0
      },
      "text/plain": [
       "Button(description='Cписок таблиц', style=ButtonStyle())"
      ]
     },
     "metadata": {},
     "output_type": "display_data"
    },
    {
     "data": {
      "application/vnd.jupyter.widget-view+json": {
       "model_id": "36baaf4754d1469d8e5a502ddd2aada3",
       "version_major": 2,
       "version_minor": 0
      },
      "text/plain": [
       "Output()"
      ]
     },
     "metadata": {},
     "output_type": "display_data"
    }
   ],
   "source": [
    "from ipywidgets import widgets\n",
    "from IPython.display import clear_output\n",
    "style = {'description_width': 'initial'}\n",
    "list_tables_button = widgets.Button(description=\"Cписок таблиц\", style = style)\n",
    "\n",
    "output = widgets.Output()\n",
    "print('Заполнение списка таблиц БД')\n",
    "display(list_tables_button,output)\n",
    "\n",
    "def on_list_button_clicked(b):\n",
    "    with output:\n",
    "        clear_output()\n",
    "        display(query_sql('shumskiiIN.db','SELECT name FROM sqlite_master WHERE type=\\'table\\';'))\n",
    "    \n",
    "list_tables_button.on_click(on_list_button_clicked)"
   ]
  },
  {
   "cell_type": "markdown",
   "id": "201e44f4-daba-453a-927a-5ce448035c36",
   "metadata": {},
   "source": [
    "# Создание экранных форм"
   ]
  },
  {
   "cell_type": "code",
   "execution_count": 17,
   "id": "8e16d0a2-9103-470f-aa6e-a4e7a1ee8938",
   "metadata": {},
   "outputs": [
    {
     "name": "stdout",
     "output_type": "stream",
     "text": [
      "Заполнение таблицы authority\n"
     ]
    },
    {
     "data": {
      "application/vnd.jupyter.widget-view+json": {
       "model_id": "03a495c16d364d78a28db6a8f4ec76f3",
       "version_major": 2,
       "version_minor": 0
      },
      "text/plain": [
       "IntText(value=1, description='id:')"
      ]
     },
     "metadata": {},
     "output_type": "display_data"
    },
    {
     "data": {
      "application/vnd.jupyter.widget-view+json": {
       "model_id": "2422ebd6252445acb9ec58e163fcff47",
       "version_major": 2,
       "version_minor": 0
      },
      "text/plain": [
       "Text(value='Название ОИВ', description='Наименование:')"
      ]
     },
     "metadata": {},
     "output_type": "display_data"
    },
    {
     "data": {
      "application/vnd.jupyter.widget-view+json": {
       "model_id": "729992409b0e454e85031ff2884d0a66",
       "version_major": 2,
       "version_minor": 0
      },
      "text/plain": [
       "Text(value='Сокращенное название', description='Сокращенное наименование:')"
      ]
     },
     "metadata": {},
     "output_type": "display_data"
    },
    {
     "data": {
      "application/vnd.jupyter.widget-view+json": {
       "model_id": "1bde5572eb254c9ebad9bfaefc650d43",
       "version_major": 2,
       "version_minor": 0
      },
      "text/plain": [
       "Text(value='Иванов', description='Фамилия:')"
      ]
     },
     "metadata": {},
     "output_type": "display_data"
    },
    {
     "data": {
      "application/vnd.jupyter.widget-view+json": {
       "model_id": "d2f4ed9ed05940d9b2834ee8e9ae30a6",
       "version_major": 2,
       "version_minor": 0
      },
      "text/plain": [
       "Text(value='Иван', description='Имя:')"
      ]
     },
     "metadata": {},
     "output_type": "display_data"
    },
    {
     "data": {
      "application/vnd.jupyter.widget-view+json": {
       "model_id": "95ce23df24e24ce9b09f25ae5565465d",
       "version_major": 2,
       "version_minor": 0
      },
      "text/plain": [
       "Text(value='Иванович', description='Отчество:')"
      ]
     },
     "metadata": {},
     "output_type": "display_data"
    },
    {
     "data": {
      "application/vnd.jupyter.widget-view+json": {
       "model_id": "5418a125bf864a83add6f8641351904e",
       "version_major": 2,
       "version_minor": 0
      },
      "text/plain": [
       "Text(value='sample@mos.ru', description='E-mail:')"
      ]
     },
     "metadata": {},
     "output_type": "display_data"
    },
    {
     "data": {
      "application/vnd.jupyter.widget-view+json": {
       "model_id": "d364929dc6274709bef8428a942caaff",
       "version_major": 2,
       "version_minor": 0
      },
      "text/plain": [
       "IntText(value=79123456789, description='Номер телефона:', style=DescriptionStyle(description_width='initial'))"
      ]
     },
     "metadata": {},
     "output_type": "display_data"
    },
    {
     "data": {
      "application/vnd.jupyter.widget-view+json": {
       "model_id": "666c3fdec1564cc98fb72a91c7df48db",
       "version_major": 2,
       "version_minor": 0
      },
      "text/plain": [
       "Text(value='mos.ru', description='Домен:')"
      ]
     },
     "metadata": {},
     "output_type": "display_data"
    },
    {
     "data": {
      "application/vnd.jupyter.widget-view+json": {
       "model_id": "305e37d4038c40b48f083fa63e20298b",
       "version_major": 2,
       "version_minor": 0
      },
      "text/plain": [
       "Text(value='Тверская', description='Улица:')"
      ]
     },
     "metadata": {},
     "output_type": "display_data"
    },
    {
     "data": {
      "application/vnd.jupyter.widget-view+json": {
       "model_id": "2c85182645f74273af2789d6c3a64fd5",
       "version_major": 2,
       "version_minor": 0
      },
      "text/plain": [
       "IntText(value=13, description='Номер дома:', style=DescriptionStyle(description_width='initial'))"
      ]
     },
     "metadata": {},
     "output_type": "display_data"
    },
    {
     "data": {
      "application/vnd.jupyter.widget-view+json": {
       "model_id": "655aaedfdef340b9bf2993b096b86084",
       "version_major": 2,
       "version_minor": 0
      },
      "text/plain": [
       "IntText(value=1, description='Строение/корпус:', style=DescriptionStyle(description_width='initial'))"
      ]
     },
     "metadata": {},
     "output_type": "display_data"
    },
    {
     "data": {
      "application/vnd.jupyter.widget-view+json": {
       "model_id": "06f2037f1bb4478090b565b0a5cbde16",
       "version_major": 2,
       "version_minor": 0
      },
      "text/plain": [
       "IntText(value=770000000000, description='ИНН:')"
      ]
     },
     "metadata": {},
     "output_type": "display_data"
    },
    {
     "data": {
      "application/vnd.jupyter.widget-view+json": {
       "model_id": "38a27357a95b473ea0cf55880f0fccd0",
       "version_major": 2,
       "version_minor": 0
      },
      "text/plain": [
       "IntText(value=770000000, description='КПП:')"
      ]
     },
     "metadata": {},
     "output_type": "display_data"
    },
    {
     "data": {
      "application/vnd.jupyter.widget-view+json": {
       "model_id": "b02b4acfc8ff465bbb21a00960bf5add",
       "version_major": 2,
       "version_minor": 0
      },
      "text/plain": [
       "IntText(value=770000000, description='КПП:')"
      ]
     },
     "metadata": {},
     "output_type": "display_data"
    },
    {
     "data": {
      "application/vnd.jupyter.widget-view+json": {
       "model_id": "0097eda7b1464acfb02bbd1a2a94db41",
       "version_major": 2,
       "version_minor": 0
      },
      "text/plain": [
       "Button(description='Записать в  БД', style=ButtonStyle())"
      ]
     },
     "metadata": {},
     "output_type": "display_data"
    }
   ],
   "source": [
    "#authority-form\n",
    "import ipywidgets as widgets #Подключаем библиотеку виджетов\n",
    "from IPython.display import display # импортируем функцию для визуализации виджетов\n",
    "\n",
    "style = {'description_width': 'initial'} #Делаем установку ширины поля discription под размер текста в нем\n",
    "id = widgets.IntText(value=1, description='id:', disabled=False)\n",
    "name = widgets.Text(value='Название ОИВ', description='Наименование:', disabled=False)\n",
    "shortName = widgets.Text(value='Сокращенное название', description='Сокращенное наименование:', disabled=False)\n",
    "lastName = widgets.Text(value='Иванов', description='Фамилия:', disabled=False)\n",
    "firstName = widgets.Text(value='Иван', description='Имя:', disabled=False)\n",
    "middleName = widgets.Text(value='Иванович', description='Отчество:', disabled=False)\n",
    "email = widgets.Text(value='sample@mos.ru', description='E-mail:', disabled=False)\n",
    "tel = widgets.IntText(value=79123456789, description='Номер телефона:', disabled=False, style=style)\n",
    "domain = widgets.Text(value='mos.ru', description='Домен:', disabled=False)\n",
    "street = widgets.Text(value='Тверская', description='Улица:', disabled=False)\n",
    "home = widgets.IntText(value=13, description='Номер дома:', disabled=False, style=style)\n",
    "block = widgets.IntText(value=1, description='Строение/корпус:', disabled=False, style=style)\n",
    "INN = widgets.IntText(value=770000000000, description='ИНН:', disabled=False)\n",
    "KPP = widgets.IntText(value=770000000, description='КПП:', disabled=False)\n",
    "OKOGU = widgets.IntText(value=770000000, description='КПП:', disabled=False)\n",
    "button = widgets.Button(description='Записать в  БД', disabled=False, button_style='')\n",
    "print('Заполнение таблицы authority')\n",
    "display(id, name, shortName, lastName, firstName, middleName, email, tel, domain, street, home, block, INN, KPP, OKOGU, button)\n",
    "\n",
    "def button_clicked(b):\n",
    "    query = '''INSERT INTO authority (id, name, shortName, lastName, firstName, middleName, email, tel,\n",
    "    domain, street, home, block, INN, KPP, OKOGU) VALUES '''\n",
    "    \n",
    "    query += '(' + str(id.value) + ',' + '\\''+ name.value + '\\'' + ',' + '\\''+ shortName.value + '\\'' + ','\n",
    "    query += '\\''+ lastName.value + '\\'' + ',' + '\\''+ firstName.value + '\\'' + ','\n",
    "    query += '\\'' + middleName.value + '\\'' + ',' + '\\''+ email.value + '\\'' + ',' + str(tel.value) + ','\n",
    "    query += '\\'' + domain.value + '\\'' + ',' + '\\''+ street.value + '\\'' + ',' + str(home.value) + ','\n",
    "    query += str(block.value) + ',' + str(INN.value) + ',' + str(KPP.value) + ',' + str(OKOGU.value) + ');'\n",
    "    print(query_sql)\n",
    "    query_sql('shumskiiIN.db', query, False)\n",
    "    \n",
    "    \n",
    "button.on_click(button_clicked)"
   ]
  },
  {
   "cell_type": "code",
   "execution_count": 18,
   "id": "49d368e3-3d5e-429d-a7b6-b2a706715bd4",
   "metadata": {},
   "outputs": [
    {
     "name": "stdout",
     "output_type": "stream",
     "text": [
      "Заполнение таблицы worker\n"
     ]
    },
    {
     "name": "stderr",
     "output_type": "stream",
     "text": [
      "C:\\Users\\event\\AppData\\Local\\Temp\\ipykernel_14636\\2783238347.py:15: FutureWarning: Series.__getitem__ treating keys as positions is deprecated. In a future version, integer keys will always be treated as labels (consistent with DataFrame behavior). To access a value by position, use `ser.iloc[pos]`\n",
      "  options=[tuple([R.iloc[i][1], int(R.iloc[i][0])]) for i in range(len(R['id']))],\n"
     ]
    },
    {
     "data": {
      "application/vnd.jupyter.widget-view+json": {
       "model_id": "27014f4b517d45dc942e07fd2014a49e",
       "version_major": 2,
       "version_minor": 0
      },
      "text/plain": [
       "IntText(value=1, description='id:')"
      ]
     },
     "metadata": {},
     "output_type": "display_data"
    },
    {
     "data": {
      "application/vnd.jupyter.widget-view+json": {
       "model_id": "cdccd9839ae8485994156a359b41fcd4",
       "version_major": 2,
       "version_minor": 0
      },
      "text/plain": [
       "Text(value='Иванов', description='Фамилия:')"
      ]
     },
     "metadata": {},
     "output_type": "display_data"
    },
    {
     "data": {
      "application/vnd.jupyter.widget-view+json": {
       "model_id": "3a13302c418a402d8997d6feac8109d8",
       "version_major": 2,
       "version_minor": 0
      },
      "text/plain": [
       "Text(value='Иван', description='Имя:')"
      ]
     },
     "metadata": {},
     "output_type": "display_data"
    },
    {
     "data": {
      "application/vnd.jupyter.widget-view+json": {
       "model_id": "94fcc417fc214c01981631a9eda4d8c1",
       "version_major": 2,
       "version_minor": 0
      },
      "text/plain": [
       "Text(value='Иванович', description='Отчество:')"
      ]
     },
     "metadata": {},
     "output_type": "display_data"
    },
    {
     "data": {
      "application/vnd.jupyter.widget-view+json": {
       "model_id": "9e05db5189bf4714b7cd509161a484be",
       "version_major": 2,
       "version_minor": 0
      },
      "text/plain": [
       "DatePicker(value=None, description='Дата рождения:', step=1, style=DescriptionStyle(description_width='initial…"
      ]
     },
     "metadata": {},
     "output_type": "display_data"
    },
    {
     "data": {
      "application/vnd.jupyter.widget-view+json": {
       "model_id": "d6d022e56bf4428f8fbb367a0a5e2f17",
       "version_major": 2,
       "version_minor": 0
      },
      "text/plain": [
       "Text(value='sample@mos.ru', description='E-mail:')"
      ]
     },
     "metadata": {},
     "output_type": "display_data"
    },
    {
     "data": {
      "application/vnd.jupyter.widget-view+json": {
       "model_id": "2627c65e71e9480a898f4b56301b1d48",
       "version_major": 2,
       "version_minor": 0
      },
      "text/plain": [
       "IntText(value=79123456789, description='Номер телефона:', style=DescriptionStyle(description_width='initial'))"
      ]
     },
     "metadata": {},
     "output_type": "display_data"
    },
    {
     "data": {
      "application/vnd.jupyter.widget-view+json": {
       "model_id": "ddb07354f2bb4efd8d24bf279a0edfeb",
       "version_major": 2,
       "version_minor": 0
      },
      "text/plain": [
       "Dropdown(description='Организация:', options=(('Департамент образования и науки города Москвы', 1), ('Комитет …"
      ]
     },
     "metadata": {},
     "output_type": "display_data"
    },
    {
     "data": {
      "application/vnd.jupyter.widget-view+json": {
       "model_id": "77dcbb59c8ff434a8451b4f599beb94a",
       "version_major": 2,
       "version_minor": 0
      },
      "text/plain": [
       "Text(value='Ведущий специалист', description='Должность:')"
      ]
     },
     "metadata": {},
     "output_type": "display_data"
    },
    {
     "data": {
      "application/vnd.jupyter.widget-view+json": {
       "model_id": "be4427e976ac44f0b3e2e2dd263d4725",
       "version_major": 2,
       "version_minor": 0
      },
      "text/plain": [
       "Button(description='Записать в  БД', style=ButtonStyle())"
      ]
     },
     "metadata": {},
     "output_type": "display_data"
    }
   ],
   "source": [
    "#worker-form\n",
    "import ipywidgets as widgets #Подключаем библиотеку виджетов\n",
    "from IPython.display import display # импортируем функцию для визуализации виджетов\n",
    "\n",
    "style = {'description_width': 'initial'} #Делаем установку ширины поля discription под размер текста в нем\n",
    "id = widgets.IntText(value=1, description='id:', disabled=False)\n",
    "lastName = widgets.Text(value='Иванов', description='Фамилия:', disabled=False)\n",
    "firstName = widgets.Text(value='Иван', description='Имя:', disabled=False)\n",
    "middleName = widgets.Text(value='Иванович', description='Отчество:', disabled=False)\n",
    "dateBirth = widgets.DatePicker(description='Дата рождения:', disabled=False, style=style)\n",
    "email = widgets.Text(value='sample@mos.ru', description='E-mail:', disabled=False)\n",
    "tel = widgets.IntText(value=79123456789, description='Номер телефона:', disabled=False, style=style)\n",
    "R=query_sql('shumskiiIN.db','select * from authority;')\n",
    "placeID=widgets.Dropdown(\n",
    "    options=[tuple([R.iloc[i][1], int(R.iloc[i][0])]) for i in range(len(R['id']))],\n",
    "    value = 1,\n",
    "    description='Организация:',\n",
    "    disabled=False\n",
    ")\n",
    "position = widgets.Text(value='Ведущий специалист', description='Должность:', disabled=False)\n",
    "\n",
    "\n",
    "button = widgets.Button(description='Записать в  БД', disabled=False, button_style='')\n",
    "print('Заполнение таблицы worker')\n",
    "display(id, lastName, firstName, middleName, dateBirth, email, tel, placeID, position, button)\n",
    "\n",
    "def button_clicked(b):\n",
    "    query = '''INSERT INTO worker (id, lastName, firstName, middleName,\n",
    "    dateBirth, email, tel, placeID, position) VALUES '''\n",
    "    \n",
    "    query += '(' + str(id.value) + ',' + '\\''+ lastName.value + '\\'' + ',' + '\\''+ firstName.value + '\\'' + ','\n",
    "    query += '\\'' + middleName.value + '\\'' + ',' +  str(dateBirth.value) + ',' + '\\''+ email.value + '\\'' + ',' \n",
    "    query += str(tel.value) + ',' + str(placeID.value) + ',' + '\\''+ position.value + '\\');'\n",
    "    print(query_sql)\n",
    "    query_sql('shumskiiIN.db', query, False)\n",
    "    \n",
    "    \n",
    "button.on_click(button_clicked)"
   ]
  },
  {
   "cell_type": "code",
   "execution_count": 19,
   "id": "a251e346-c0cc-47c4-9022-95c8fa8c4698",
   "metadata": {},
   "outputs": [
    {
     "name": "stdout",
     "output_type": "stream",
     "text": [
      "Заполнение таблицы dataSet\n"
     ]
    },
    {
     "name": "stderr",
     "output_type": "stream",
     "text": [
      "C:\\Users\\event\\AppData\\Local\\Temp\\ipykernel_14636\\4005398500.py:11: FutureWarning: Series.__getitem__ treating keys as positions is deprecated. In a future version, integer keys will always be treated as labels (consistent with DataFrame behavior). To access a value by position, use `ser.iloc[pos]`\n",
      "  options=[tuple([R.iloc[i][1], int(R.iloc[i][0])]) for i in range(len(R['id']))],\n",
      "C:\\Users\\event\\AppData\\Local\\Temp\\ipykernel_14636\\4005398500.py:19: FutureWarning: Series.__getitem__ treating keys as positions is deprecated. In a future version, integer keys will always be treated as labels (consistent with DataFrame behavior). To access a value by position, use `ser.iloc[pos]`\n",
      "  options=[tuple([R.iloc[i][1], int(R.iloc[i][0])]) for i in range(len(R['id']))],\n",
      "C:\\Users\\event\\AppData\\Local\\Temp\\ipykernel_14636\\4005398500.py:27: FutureWarning: Series.__getitem__ treating keys as positions is deprecated. In a future version, integer keys will always be treated as labels (consistent with DataFrame behavior). To access a value by position, use `ser.iloc[pos]`\n",
      "  options=[tuple([R.iloc[i][1], int(R.iloc[i][0])]) for i in range(len(R['id']))],\n"
     ]
    },
    {
     "data": {
      "application/vnd.jupyter.widget-view+json": {
       "model_id": "861ce308f397454cac6d220bb3c305a4",
       "version_major": 2,
       "version_minor": 0
      },
      "text/plain": [
       "IntText(value=1, description='id:')"
      ]
     },
     "metadata": {},
     "output_type": "display_data"
    },
    {
     "data": {
      "application/vnd.jupyter.widget-view+json": {
       "model_id": "4214fe40bcd84354be8846768cc10799",
       "version_major": 2,
       "version_minor": 0
      },
      "text/plain": [
       "Text(value='Название набора:', description='Наименование:')"
      ]
     },
     "metadata": {},
     "output_type": "display_data"
    },
    {
     "data": {
      "application/vnd.jupyter.widget-view+json": {
       "model_id": "9f28ea9056ac46279d9d68d4ba9a0959",
       "version_major": 2,
       "version_minor": 0
      },
      "text/plain": [
       "Dropdown(description='Категория:', options=(('Активный гражданин', 1), ('Выборы', 2), ('Дороги и транспорт', 3…"
      ]
     },
     "metadata": {},
     "output_type": "display_data"
    },
    {
     "data": {
      "application/vnd.jupyter.widget-view+json": {
       "model_id": "6e49209a551d4b3d9a42561492379557",
       "version_major": 2,
       "version_minor": 0
      },
      "text/plain": [
       "Dropdown(description='Ключевое слово:', options=(('Зимние', 1), ('Летние', 2), ('Всесезонные', 3)), value=1)"
      ]
     },
     "metadata": {},
     "output_type": "display_data"
    },
    {
     "data": {
      "application/vnd.jupyter.widget-view+json": {
       "model_id": "3eb82e19eb6540beae9321f7e4858ae8",
       "version_major": 2,
       "version_minor": 0
      },
      "text/plain": [
       "Dropdown(description='Период актуализации:', options=(('Ежемесячно', 1), ('Ежеквартально', 2), ('Ежегодно', 3)…"
      ]
     },
     "metadata": {},
     "output_type": "display_data"
    },
    {
     "data": {
      "application/vnd.jupyter.widget-view+json": {
       "model_id": "de69d4d98861464eb1984c0b6a5c4f84",
       "version_major": 2,
       "version_minor": 0
      },
      "text/plain": [
       "FloatSlider(value=5.5, continuous_update=False, description='Рейтинг:', max=10.0, readout_format='.1f')"
      ]
     },
     "metadata": {},
     "output_type": "display_data"
    },
    {
     "data": {
      "application/vnd.jupyter.widget-view+json": {
       "model_id": "18846fa476df4db7b7a7d20dbe9fc271",
       "version_major": 2,
       "version_minor": 0
      },
      "text/plain": [
       "IntText(value=10, description='Количество скачиваний', style=DescriptionStyle(description_width='initial'))"
      ]
     },
     "metadata": {},
     "output_type": "display_data"
    },
    {
     "data": {
      "application/vnd.jupyter.widget-view+json": {
       "model_id": "aa45330d2ef94d51a5f3e9b1e94d355c",
       "version_major": 2,
       "version_minor": 0
      },
      "text/plain": [
       "Button(description='Записать в  БД', style=ButtonStyle())"
      ]
     },
     "metadata": {},
     "output_type": "display_data"
    }
   ],
   "source": [
    "#dataSet-form\n",
    "import ipywidgets as widgets #Подключаем библиотеку виджетов\n",
    "from IPython.display import display # импортируем функцию для визуализации виджетов\n",
    "\n",
    "style = {'description_width': 'initial'} #Делаем установку ширины поля discription под размер текста в нем\n",
    "id = widgets.IntText(value=1, description='id:', disabled=False)\n",
    "name = widgets.Text(value='Название набора:', description='Наименование:', disabled=False)\n",
    "\n",
    "R=query_sql('shumskiiIN.db','select * from categoryList;')\n",
    "categoryID=widgets.Dropdown(\n",
    "    options=[tuple([R.iloc[i][1], int(R.iloc[i][0])]) for i in range(len(R['id']))],\n",
    "    value = 1,\n",
    "    description='Категория:',\n",
    "    disabled=False\n",
    ")\n",
    "\n",
    "R=query_sql('shumskiiIN.db','select * from keywordList;')\n",
    "keyword=widgets.Dropdown(\n",
    "    options=[tuple([R.iloc[i][1], int(R.iloc[i][0])]) for i in range(len(R['id']))],\n",
    "    value = 1,\n",
    "    description='Ключевое слово:',\n",
    "    disabled=False\n",
    ")\n",
    "\n",
    "R=query_sql('shumskiiIN.db','select * from periodList;')\n",
    "updatePeriod=widgets.Dropdown(\n",
    "    options=[tuple([R.iloc[i][1], int(R.iloc[i][0])]) for i in range(len(R['id']))],\n",
    "    value = 1,\n",
    "    description='Период актуализации:',\n",
    "    disabled=False\n",
    ")\n",
    "rating = widgets.FloatSlider(value=5.5, min=0, max=10.0, step=0.1, description='Рейтинг:', disabled=False, continuous_update=False, orientation='horizontal', readout=True, readout_format='.1f')\n",
    "downloadCounter = widgets.IntText(value=10, description='Количество скачиваний', disabled=False, style=style)\n",
    "\n",
    "\n",
    "button = widgets.Button(description='Записать в  БД', disabled=False, button_style='')\n",
    "print('Заполнение таблицы dataSet')\n",
    "display(id, name, categoryID, keyword, updatePeriod, rating, downloadCounter, button)\n",
    "\n",
    "def button_clicked(b):\n",
    "    query = '''INSERT INTO dataSet (id, name, categoryID, keyword, updatePeriod, rating, downloadCounter) VALUES '''\n",
    "    \n",
    "    query += '(' + str(id.value) + ',' + '\\''+ name.value + '\\'' + ',' \n",
    "    query += str(categoryID.value) + ',' + str(keyword.value) + ',' + str(updatePeriod.value) + ',' \n",
    "    query += str(rating.value) + ',' + str(downloadCounter.value) + ');'\n",
    "    print(query_sql)\n",
    "    query_sql('shumskiiIN.db', query, False)\n",
    "    \n",
    "    \n",
    "button.on_click(button_clicked)"
   ]
  },
  {
   "cell_type": "code",
   "execution_count": 21,
   "id": "1c5de4ec-98d6-40b6-9a94-c1cdb932890b",
   "metadata": {},
   "outputs": [
    {
     "name": "stdout",
     "output_type": "stream",
     "text": [
      "Заполнение таблицы dataSet\n"
     ]
    },
    {
     "name": "stderr",
     "output_type": "stream",
     "text": [
      "C:\\Users\\event\\AppData\\Local\\Temp\\ipykernel_14636\\3318766133.py:10: FutureWarning: Series.__getitem__ treating keys as positions is deprecated. In a future version, integer keys will always be treated as labels (consistent with DataFrame behavior). To access a value by position, use `ser.iloc[pos]`\n",
      "  options=[tuple([R.iloc[i][1], int(R.iloc[i][0])]) for i in range(len(R['id']))],\n",
      "C:\\Users\\event\\AppData\\Local\\Temp\\ipykernel_14636\\3318766133.py:20: FutureWarning: Series.__getitem__ treating keys as positions is deprecated. In a future version, integer keys will always be treated as labels (consistent with DataFrame behavior). To access a value by position, use `ser.iloc[pos]`\n",
      "  options=[tuple([R.iloc[i][2] + ' ' + R.iloc[i][1] + ' ' + R.iloc[i][3], int(R.iloc[i][0])]) for i in range(len(R['id']))],\n",
      "C:\\Users\\event\\AppData\\Local\\Temp\\ipykernel_14636\\3318766133.py:30: FutureWarning: Series.__getitem__ treating keys as positions is deprecated. In a future version, integer keys will always be treated as labels (consistent with DataFrame behavior). To access a value by position, use `ser.iloc[pos]`\n",
      "  options=[tuple([R.iloc[i][1], int(R.iloc[i][0])]) for i in range(len(R['id']))],\n"
     ]
    },
    {
     "data": {
      "application/vnd.jupyter.widget-view+json": {
       "model_id": "2e427d0b277541b7a3e117481f611bb0",
       "version_major": 2,
       "version_minor": 0
      },
      "text/plain": [
       "IntText(value=1, description='id:')"
      ]
     },
     "metadata": {},
     "output_type": "display_data"
    },
    {
     "data": {
      "application/vnd.jupyter.widget-view+json": {
       "model_id": "59e3801cdd994b498875c4f00648ee03",
       "version_major": 2,
       "version_minor": 0
      },
      "text/plain": [
       "Dropdown(description='Набор данных:', options=(('набор1', 1), ('набор2', 2)), value=1)"
      ]
     },
     "metadata": {},
     "output_type": "display_data"
    },
    {
     "data": {
      "application/vnd.jupyter.widget-view+json": {
       "model_id": "cefc39aa906d4c9ea43497ed20decfe2",
       "version_major": 2,
       "version_minor": 0
      },
      "text/plain": [
       "Dropdown(description='Сотрудник:', options=(('ФСотрудник1 ИСотрудник1 ОСотрудник1', 1), ('ФСотрудник2 ИСотрудн…"
      ]
     },
     "metadata": {},
     "output_type": "display_data"
    },
    {
     "data": {
      "application/vnd.jupyter.widget-view+json": {
       "model_id": "2c1e92ecad024eb8bd3f17cd0b06f7ad",
       "version_major": 2,
       "version_minor": 0
      },
      "text/plain": [
       "Dropdown(description='Действие:', options=(('Опубликован', 1), ('Архивирован', 2), ('Изъят из публичного досту…"
      ]
     },
     "metadata": {},
     "output_type": "display_data"
    },
    {
     "data": {
      "application/vnd.jupyter.widget-view+json": {
       "model_id": "2f7ca5b3e3b044a8820ffe521d08c456",
       "version_major": 2,
       "version_minor": 0
      },
      "text/plain": [
       "DatePicker(value=None, description='Дата:', step=1, style=DescriptionStyle(description_width='initial'))"
      ]
     },
     "metadata": {},
     "output_type": "display_data"
    },
    {
     "data": {
      "application/vnd.jupyter.widget-view+json": {
       "model_id": "78727efc2652411cb183fe3116070118",
       "version_major": 2,
       "version_minor": 0
      },
      "text/plain": [
       "IntText(value=1, description='ИД ГИС:')"
      ]
     },
     "metadata": {},
     "output_type": "display_data"
    },
    {
     "data": {
      "application/vnd.jupyter.widget-view+json": {
       "model_id": "0f6eb9c0e6584a50a7a8f1babd2d90b6",
       "version_major": 2,
       "version_minor": 0
      },
      "text/plain": [
       "Text(value='//localhost:8888/', description='XLSX-формат:')"
      ]
     },
     "metadata": {},
     "output_type": "display_data"
    },
    {
     "data": {
      "application/vnd.jupyter.widget-view+json": {
       "model_id": "6b736ecadc2d4fc792940d2263410c28",
       "version_major": 2,
       "version_minor": 0
      },
      "text/plain": [
       "Text(value='//localhost:8888/', description='JSON-формат:')"
      ]
     },
     "metadata": {},
     "output_type": "display_data"
    },
    {
     "data": {
      "application/vnd.jupyter.widget-view+json": {
       "model_id": "c1a6c82c99e744a6a32680724b293519",
       "version_major": 2,
       "version_minor": 0
      },
      "text/plain": [
       "Text(value='//localhost:8888/', description='CSV-формат:')"
      ]
     },
     "metadata": {},
     "output_type": "display_data"
    },
    {
     "data": {
      "application/vnd.jupyter.widget-view+json": {
       "model_id": "bfd57a6db90d4c458c92ed5105720f16",
       "version_major": 2,
       "version_minor": 0
      },
      "text/plain": [
       "Text(value='//localhost:8888/', description='XML-формат:')"
      ]
     },
     "metadata": {},
     "output_type": "display_data"
    },
    {
     "data": {
      "application/vnd.jupyter.widget-view+json": {
       "model_id": "b499dbbe3cfb4c14b9178982a3395ffc",
       "version_major": 2,
       "version_minor": 0
      },
      "text/plain": [
       "Button(description='Записать в  БД', style=ButtonStyle())"
      ]
     },
     "metadata": {},
     "output_type": "display_data"
    }
   ],
   "source": [
    "#log-form\n",
    "import ipywidgets as widgets #Подключаем библиотеку виджетов\n",
    "from IPython.display import display # импортируем функцию для визуализации виджетов\n",
    "\n",
    "style = {'description_width': 'initial'} #Делаем установку ширины поля discription под размер текста в нем\n",
    "id = widgets.IntText(value=1, description='id:', disabled=False)\n",
    "\n",
    "R=query_sql('shumskiiIN.db','select * from actionList;')\n",
    "action=widgets.Dropdown(\n",
    "    options=[tuple([R.iloc[i][1], int(R.iloc[i][0])]) for i in range(len(R['id']))],\n",
    "    value = 1,\n",
    "    description='Действие:',\n",
    "    disabled=False\n",
    ")\n",
    "\n",
    "date = widgets.DatePicker(description='Дата:', disabled=False, style=style)\n",
    "\n",
    "R=query_sql('shumskiiIN.db','select * from worker;')\n",
    "user=widgets.Dropdown(\n",
    "   options=[tuple([R.iloc[i][2] + ' ' + R.iloc[i][1] + ' ' + R.iloc[i][3], int(R.iloc[i][0])]) for i in range(len(R['id']))],\n",
    "    value = 1,\n",
    "    description='Сотрудник:',\n",
    "    disabled=False\n",
    ")\n",
    "\n",
    "GIS = widgets.IntText(value=1, description='ИД ГИС:', disabled=False)\n",
    "\n",
    "R=query_sql('shumskiiIN.db','select * from dataSet;')\n",
    "dataSet=widgets.Dropdown(\n",
    "    options=[tuple([R.iloc[i][1], int(R.iloc[i][0])]) for i in range(len(R['id']))],\n",
    "    value = 1,\n",
    "    description='Набор данных:',\n",
    "    disabled=False\n",
    ")\n",
    "\n",
    " \n",
    "urlXLSX = widgets.Text(value='//localhost:8888/', description='XLSX-формат:', disabled=False)\n",
    "urlJSON = widgets.Text(value='//localhost:8888/', description='JSON-формат:', disabled=False)\n",
    "urlCSV = widgets.Text(value='//localhost:8888/', description='CSV-формат:', disabled=False)\n",
    "urlXML = widgets.Text(value='//localhost:8888/', description='XML-формат:', disabled=False)\n",
    "\n",
    "\n",
    "button = widgets.Button(description='Записать в  БД', disabled=False, button_style='')\n",
    "print('Заполнение таблицы dataSet')\n",
    "display(id, dataSet, user, action, date, GIS, urlXLSX, urlJSON, urlCSV, urlXML, button)\n",
    "\n",
    "def button_clicked(b):\n",
    "    query = '''INSERT INTO log (id, dataSet, user, action, date, GIS, urlXLSX, urlJSON, urlCSV, urlXML) VALUES '''\n",
    "    \n",
    "    query += '(' + str(id.value) + ',' + str(dataSet.value) + ',' \n",
    "    query += str(user.value) + ',' + str(action.value) + ',' +  str(dateBirth.value) + ',' + str(GIS.value) + ',' \n",
    "    query += '\\''+ urlXLSX.value + '\\'' + ',' + '\\''+ urlJSON.value + '\\'' + ','\n",
    "    query += '\\''+ urlCSV.value + '\\'' + ',' + '\\''+ urlXML.value + '\\'' + ');'\n",
    "    print(query_sql)\n",
    "    query_sql('shumskiiIN.db', query, False)\n",
    "    \n",
    "    \n",
    "button.on_click(button_clicked)"
   ]
  },
  {
   "cell_type": "code",
   "execution_count": null,
   "id": "688e02a4-50ba-4b83-b7c9-b941ffd7cf4b",
   "metadata": {},
   "outputs": [],
   "source": []
  }
 ],
 "metadata": {
  "kernelspec": {
   "display_name": "Python 3 (ipykernel)",
   "language": "python",
   "name": "python3"
  },
  "language_info": {
   "codemirror_mode": {
    "name": "ipython",
    "version": 3
   },
   "file_extension": ".py",
   "mimetype": "text/x-python",
   "name": "python",
   "nbconvert_exporter": "python",
   "pygments_lexer": "ipython3",
   "version": "3.12.1"
  }
 },
 "nbformat": 4,
 "nbformat_minor": 5
}
