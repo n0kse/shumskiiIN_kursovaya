{
 "cells": [
  {
   "cell_type": "code",
   "execution_count": 1,
   "id": "4d469448-6909-4c1d-8401-b171638317e9",
   "metadata": {},
   "outputs": [
    {
     "name": "stdout",
     "output_type": "stream",
     "text": [
      "База данных создана и успешно подключена к SQLite\n",
      "Версия базы данных SQLite:  [('3.43.1',)]\n",
      "Соединение с SQLite закрыто\n"
     ]
    }
   ],
   "source": [
    "import sqlite3 # импортируем библиотеку по работе с базой данных\n",
    "try:\n",
    "    sqlite_connection = sqlite3.connect('shumskiiIN.db') #создаем переменную подключения к БД\n",
    "    cursor = sqlite_connection.cursor() #создаем специальную переменную по работе с БД\n",
    "    print(\"База данных создана и успешно подключена к SQLite\")\n",
    "\n",
    "    sqlite_select_query = \"SELECT sqlite_version();\" #пишем запрос получение версии библиотеки sqlite \n",
    "    cursor.execute(sqlite_select_query) #выполняем запрос, после чего в буфере содержится текст результата\n",
    "    record = cursor.fetchall() #читаем все содержимое буфера в переменную record\n",
    "    print(\"Версия базы данных SQLite: \", record)\n",
    "    cursor.close() #закрываем курсор по работе с БД\n",
    "\n",
    "except sqlite3.Error as error:\n",
    "    print(\"Ошибка при подключении к sqlite\", error) # если при попытке подключения к БД возникли ошибки, выводим их\n",
    "finally:\n",
    "    if (sqlite_connection):\n",
    "        sqlite_connection.close() #если соединение с БД открыто, закрываем его\n",
    "        print(\"Соединение с SQLite закрыто\")"
   ]
  },
  {
   "cell_type": "code",
   "execution_count": 2,
   "id": "e65f9e45-8e4e-4d87-8515-754dd1f9c9b5",
   "metadata": {},
   "outputs": [
    {
     "name": "stdout",
     "output_type": "stream",
     "text": [
      "База данных подключена к SQLite\n",
      "Ошибка при подключении к sqlite table periodList already exists\n",
      "Соединение с SQLite закрыто\n"
     ]
    }
   ],
   "source": [
    "import sqlite3\n",
    "try:\n",
    "    sqlite_connection = sqlite3.connect('shumskiiIN.db')\n",
    "# Создаем sql-запросы на создание таблиц, записываем для удобства их в переменные с одноименным названием\n",
    "    periodList = 'CREATE TABLE periodList (id INTEGER PRIMARY KEY NOT NULL, period VARCHAR(30) NOT NULL);'\n",
    "    categoryList = 'CREATE TABLE categoryList (id INTEGER PRIMARY KEY NOT NULL, category VARCHAR(30) NOT NULL);'\n",
    "    actionList = 'CREATE TABLE actionList (id INTEGER PRIMARY KEY NOT NULL, action VARCHAR(30) NOT NULL);'\n",
    "    keywordList = 'CREATE TABLE keywordList (id INTEGER PRIMARY KEY NOT NULL, keyword VARCHAR(30) NOT NULL);'\n",
    "    \n",
    "    cursor = sqlite_connection.cursor()\n",
    "    print(\"База данных подключена к SQLite\")\n",
    "    cursor.execute(periodList)\n",
    "    sqlite_connection.commit()\n",
    "    print(\"Таблица periodList создана\")\n",
    "\n",
    "    cursor.execute(categoryList)\n",
    "    sqlite_connection.commit()\n",
    "    print(\"Таблица categoryList создана\")\n",
    "\n",
    "    cursor.execute(actionList)\n",
    "    sqlite_connection.commit()\n",
    "    print(\"Таблица actionList создана\")\n",
    "    \n",
    "    cursor.execute(keywordList)\n",
    "    sqlite_connection.commit()\n",
    "    print(\"Таблица keywordList создана\")\n",
    "\n",
    "    cursor.close()\n",
    "\n",
    "except sqlite3.Error as error:\n",
    "    print(\"Ошибка при подключении к sqlite\", error)\n",
    "finally:\n",
    "    if (sqlite_connection):\n",
    "        sqlite_connection.close()\n",
    "        print(\"Соединение с SQLite закрыто\")"
   ]
  },
  {
   "cell_type": "code",
   "execution_count": 3,
   "id": "bdd87510-9ef3-4dbc-a0d0-90eea47c8e2f",
   "metadata": {},
   "outputs": [
    {
     "name": "stdout",
     "output_type": "stream",
     "text": [
      "Ошибка при подключении к sqlite UNIQUE constraint failed: periodList.id\n",
      "Соединение с SQLite закрыто\n"
     ]
    }
   ],
   "source": [
    "# Заполнение таблицы periodList\n",
    "import sqlite3\n",
    "try:\n",
    "    sqlite_connection = sqlite3.connect('shumskiiIN.db')\n",
    "    filling_periodList = '''INSERT INTO periodList (id, period) VALUES\n",
    "                        (1, 'Ежемесячно'),\n",
    "                        (2, 'Ежеквартально'),\n",
    "                        (3, 'Ежегодно');\n",
    "                      '''\n",
    "    cursor = sqlite_connection.cursor()\n",
    "    cursor.execute(filling_periodList)\n",
    "    sqlite_connection.commit()\n",
    "    cursor.close()\n",
    "except sqlite3.Error as error:\n",
    "    print(\"Ошибка при подключении к sqlite\", error)\n",
    "finally:\n",
    "    if (sqlite_connection):\n",
    "        sqlite_connection.close()\n",
    "        print(\"Соединение с SQLite закрыто\")"
   ]
  },
  {
   "cell_type": "code",
   "execution_count": 4,
   "id": "7e5cba8e-2a75-4daa-be83-7f8657bd704d",
   "metadata": {},
   "outputs": [
    {
     "name": "stdout",
     "output_type": "stream",
     "text": [
      "Ошибка при подключении к sqlite UNIQUE constraint failed: categoryList.id\n",
      "Соединение с SQLite закрыто\n"
     ]
    }
   ],
   "source": [
    "# Заполнение таблицы periodList\n",
    "import sqlite3\n",
    "try:\n",
    "    sqlite_connection = sqlite3.connect('shumskiiIN.db')\n",
    "    filling_categoryList = '''INSERT INTO categoryList (id, category) VALUES\n",
    "                        (1, 'Активный гражданин'),\n",
    "                        (2, 'Выборы'),\n",
    "                        (3, 'Дороги и транспорт'),\n",
    "                        (4, 'Жилищно-коммунальное хозяйство'),\n",
    "                        (5, 'Здравоохранение'),\n",
    "                        (6, 'Культура'),\n",
    "                        (7, 'Общественное питание'),\n",
    "                        (8, 'Пешеходная инфраструктура'),\n",
    "                        (9, 'Религиозные объекты'),\n",
    "                        (10, 'Социальная среда'),\n",
    "                        (11, 'Строительство'),\n",
    "                        (12, 'Торговля'),\n",
    "                        (13, 'Безопасность'),\n",
    "                        (14, 'Государственные услуги'),\n",
    "                        (15, 'Досуг и отдых'),\n",
    "                        (16, 'Забота о животных'),\n",
    "                        (17, 'Земля и имущество'),\n",
    "                        (18, 'Образование'),\n",
    "                        (19, 'Органы государственной власти'),\n",
    "                        (20, 'Предпринимательство'),\n",
    "                        (21, 'Связь'),\n",
    "                        (22, 'Справочная информация'),\n",
    "                        (23, 'Территориальное деление'),\n",
    "                        (24, 'Трудоустройство');\n",
    "                      '''\n",
    "    cursor = sqlite_connection.cursor()\n",
    "    cursor.execute(filling_categoryList)\n",
    "    sqlite_connection.commit()\n",
    "    cursor.close()\n",
    "except sqlite3.Error as error:\n",
    "    print(\"Ошибка при подключении к sqlite\", error)\n",
    "finally:\n",
    "    if (sqlite_connection):\n",
    "        sqlite_connection.close()\n",
    "        print(\"Соединение с SQLite закрыто\")"
   ]
  },
  {
   "cell_type": "code",
   "execution_count": 5,
   "id": "e77f6aa1-b10a-4382-b7f3-c8854d3f0760",
   "metadata": {},
   "outputs": [
    {
     "name": "stdout",
     "output_type": "stream",
     "text": [
      "Ошибка при подключении к sqlite UNIQUE constraint failed: actionList.id\n",
      "Соединение с SQLite закрыто\n"
     ]
    }
   ],
   "source": [
    "# Заполнение таблицы periodList\n",
    "import sqlite3\n",
    "try:\n",
    "    sqlite_connection = sqlite3.connect('shumskiiIN.db')\n",
    "    filling_actionList = '''INSERT INTO actionList (id, action) VALUES\n",
    "                        (1, 'Опубликован'),\n",
    "                        (2, 'Архивирован'),\n",
    "                        (3, 'Изъят из публичного доступа');\n",
    "                      '''\n",
    "    cursor = sqlite_connection.cursor()\n",
    "    cursor.execute(filling_actionList)\n",
    "    sqlite_connection.commit()\n",
    "    cursor.close()\n",
    "except sqlite3.Error as error:\n",
    "    print(\"Ошибка при подключении к sqlite\", error)\n",
    "finally:\n",
    "    if (sqlite_connection):\n",
    "        sqlite_connection.close()\n",
    "        print(\"Соединение с SQLite закрыто\")"
   ]
  },
  {
   "cell_type": "code",
   "execution_count": 6,
   "id": "6c5b5662-f6b6-4745-a3b2-033c59acebe7",
   "metadata": {},
   "outputs": [
    {
     "name": "stdout",
     "output_type": "stream",
     "text": [
      "Ошибка при подключении к sqlite UNIQUE constraint failed: keywordList.id\n",
      "Соединение с SQLite закрыто\n"
     ]
    }
   ],
   "source": [
    "# Заполнение таблицы keywordList\n",
    "import sqlite3\n",
    "try:\n",
    "    sqlite_connection = sqlite3.connect('shumskiiIN.db')\n",
    "    filling_keywordList = '''INSERT INTO keywordList (id, keyword) VALUES\n",
    "                        (1, 'Зимние'),\n",
    "                        (2, 'Летние'),\n",
    "                        (3, 'Всесезонные');\n",
    "                      '''\n",
    "    cursor = sqlite_connection.cursor()\n",
    "    cursor.execute(filling_keywordList)\n",
    "    sqlite_connection.commit()\n",
    "    cursor.close()\n",
    "except sqlite3.Error as error:\n",
    "    print(\"Ошибка при подключении к sqlite\", error)\n",
    "finally:\n",
    "    if (sqlite_connection):\n",
    "        sqlite_connection.close()\n",
    "        print(\"Соединение с SQLite закрыто\")"
   ]
  },
  {
   "cell_type": "code",
   "execution_count": 4,
   "id": "4a577264-ea55-4004-9724-a7a81324d7fb",
   "metadata": {},
   "outputs": [],
   "source": [
    "#Функция реализует запрос на чтение к базе данных\n",
    "import sqlite3\n",
    "def query_sql (db, query):\n",
    "  sqlite_connection = sqlite3.connect(db)\n",
    "  cursor = sqlite_connection.cursor()\n",
    "  cursor.execute(query)\n",
    "  sqlite_connection.commit()\n",
    "  rows = cursor.fetchall()\n",
    "  names = tuple(map(lambda x: x[0], cursor.description))\n",
    "  cursor.close()\n",
    "  sqlite_connection.close()\n",
    "  import pandas as pd\n",
    "  import numpy as np\n",
    "  aa=np.array(rows)\n",
    "  dd=pd.DataFrame(aa, columns=names)\n",
    "  display(dd)"
   ]
  },
  {
   "cell_type": "code",
   "execution_count": 5,
   "id": "0630b617-3345-4bab-bcc7-66c0dbefd7d1",
   "metadata": {},
   "outputs": [
    {
     "data": {
      "text/html": [
       "<div>\n",
       "<style scoped>\n",
       "    .dataframe tbody tr th:only-of-type {\n",
       "        vertical-align: middle;\n",
       "    }\n",
       "\n",
       "    .dataframe tbody tr th {\n",
       "        vertical-align: top;\n",
       "    }\n",
       "\n",
       "    .dataframe thead th {\n",
       "        text-align: right;\n",
       "    }\n",
       "</style>\n",
       "<table border=\"1\" class=\"dataframe\">\n",
       "  <thead>\n",
       "    <tr style=\"text-align: right;\">\n",
       "      <th></th>\n",
       "      <th>id</th>\n",
       "      <th>period</th>\n",
       "    </tr>\n",
       "  </thead>\n",
       "  <tbody>\n",
       "    <tr>\n",
       "      <th>0</th>\n",
       "      <td>1</td>\n",
       "      <td>Ежемесячно</td>\n",
       "    </tr>\n",
       "    <tr>\n",
       "      <th>1</th>\n",
       "      <td>2</td>\n",
       "      <td>Ежеквартально</td>\n",
       "    </tr>\n",
       "    <tr>\n",
       "      <th>2</th>\n",
       "      <td>3</td>\n",
       "      <td>Ежегодно</td>\n",
       "    </tr>\n",
       "  </tbody>\n",
       "</table>\n",
       "</div>"
      ],
      "text/plain": [
       "  id         period\n",
       "0  1     Ежемесячно\n",
       "1  2  Ежеквартально\n",
       "2  3       Ежегодно"
      ]
     },
     "metadata": {},
     "output_type": "display_data"
    },
    {
     "data": {
      "text/html": [
       "<div>\n",
       "<style scoped>\n",
       "    .dataframe tbody tr th:only-of-type {\n",
       "        vertical-align: middle;\n",
       "    }\n",
       "\n",
       "    .dataframe tbody tr th {\n",
       "        vertical-align: top;\n",
       "    }\n",
       "\n",
       "    .dataframe thead th {\n",
       "        text-align: right;\n",
       "    }\n",
       "</style>\n",
       "<table border=\"1\" class=\"dataframe\">\n",
       "  <thead>\n",
       "    <tr style=\"text-align: right;\">\n",
       "      <th></th>\n",
       "      <th>id</th>\n",
       "      <th>action</th>\n",
       "    </tr>\n",
       "  </thead>\n",
       "  <tbody>\n",
       "    <tr>\n",
       "      <th>0</th>\n",
       "      <td>1</td>\n",
       "      <td>Опубликован</td>\n",
       "    </tr>\n",
       "    <tr>\n",
       "      <th>1</th>\n",
       "      <td>2</td>\n",
       "      <td>Архивирован</td>\n",
       "    </tr>\n",
       "    <tr>\n",
       "      <th>2</th>\n",
       "      <td>3</td>\n",
       "      <td>Изъят из публичного доступа</td>\n",
       "    </tr>\n",
       "  </tbody>\n",
       "</table>\n",
       "</div>"
      ],
      "text/plain": [
       "  id                       action\n",
       "0  1                  Опубликован\n",
       "1  2                  Архивирован\n",
       "2  3  Изъят из публичного доступа"
      ]
     },
     "metadata": {},
     "output_type": "display_data"
    },
    {
     "data": {
      "text/html": [
       "<div>\n",
       "<style scoped>\n",
       "    .dataframe tbody tr th:only-of-type {\n",
       "        vertical-align: middle;\n",
       "    }\n",
       "\n",
       "    .dataframe tbody tr th {\n",
       "        vertical-align: top;\n",
       "    }\n",
       "\n",
       "    .dataframe thead th {\n",
       "        text-align: right;\n",
       "    }\n",
       "</style>\n",
       "<table border=\"1\" class=\"dataframe\">\n",
       "  <thead>\n",
       "    <tr style=\"text-align: right;\">\n",
       "      <th></th>\n",
       "      <th>id</th>\n",
       "      <th>category</th>\n",
       "    </tr>\n",
       "  </thead>\n",
       "  <tbody>\n",
       "    <tr>\n",
       "      <th>0</th>\n",
       "      <td>1</td>\n",
       "      <td>Активный гражданин</td>\n",
       "    </tr>\n",
       "    <tr>\n",
       "      <th>1</th>\n",
       "      <td>2</td>\n",
       "      <td>Выборы</td>\n",
       "    </tr>\n",
       "    <tr>\n",
       "      <th>2</th>\n",
       "      <td>3</td>\n",
       "      <td>Дороги и транспорт</td>\n",
       "    </tr>\n",
       "    <tr>\n",
       "      <th>3</th>\n",
       "      <td>4</td>\n",
       "      <td>Жилищно-коммунальное хозяйство</td>\n",
       "    </tr>\n",
       "    <tr>\n",
       "      <th>4</th>\n",
       "      <td>5</td>\n",
       "      <td>Здравоохранение</td>\n",
       "    </tr>\n",
       "    <tr>\n",
       "      <th>5</th>\n",
       "      <td>6</td>\n",
       "      <td>Культура</td>\n",
       "    </tr>\n",
       "    <tr>\n",
       "      <th>6</th>\n",
       "      <td>7</td>\n",
       "      <td>Общественное питание</td>\n",
       "    </tr>\n",
       "    <tr>\n",
       "      <th>7</th>\n",
       "      <td>8</td>\n",
       "      <td>Пешеходная инфраструктура</td>\n",
       "    </tr>\n",
       "    <tr>\n",
       "      <th>8</th>\n",
       "      <td>9</td>\n",
       "      <td>Религиозные объекты</td>\n",
       "    </tr>\n",
       "    <tr>\n",
       "      <th>9</th>\n",
       "      <td>10</td>\n",
       "      <td>Социальная среда</td>\n",
       "    </tr>\n",
       "    <tr>\n",
       "      <th>10</th>\n",
       "      <td>11</td>\n",
       "      <td>Строительство</td>\n",
       "    </tr>\n",
       "    <tr>\n",
       "      <th>11</th>\n",
       "      <td>12</td>\n",
       "      <td>Торговля</td>\n",
       "    </tr>\n",
       "    <tr>\n",
       "      <th>12</th>\n",
       "      <td>13</td>\n",
       "      <td>Безопасность</td>\n",
       "    </tr>\n",
       "    <tr>\n",
       "      <th>13</th>\n",
       "      <td>14</td>\n",
       "      <td>Государственные услуги</td>\n",
       "    </tr>\n",
       "    <tr>\n",
       "      <th>14</th>\n",
       "      <td>15</td>\n",
       "      <td>Досуг и отдых</td>\n",
       "    </tr>\n",
       "    <tr>\n",
       "      <th>15</th>\n",
       "      <td>16</td>\n",
       "      <td>Забота о животных</td>\n",
       "    </tr>\n",
       "    <tr>\n",
       "      <th>16</th>\n",
       "      <td>17</td>\n",
       "      <td>Земля и имущество</td>\n",
       "    </tr>\n",
       "    <tr>\n",
       "      <th>17</th>\n",
       "      <td>18</td>\n",
       "      <td>Образование</td>\n",
       "    </tr>\n",
       "    <tr>\n",
       "      <th>18</th>\n",
       "      <td>19</td>\n",
       "      <td>Органы государственной власти</td>\n",
       "    </tr>\n",
       "    <tr>\n",
       "      <th>19</th>\n",
       "      <td>20</td>\n",
       "      <td>Предпринимательство</td>\n",
       "    </tr>\n",
       "    <tr>\n",
       "      <th>20</th>\n",
       "      <td>21</td>\n",
       "      <td>Связь</td>\n",
       "    </tr>\n",
       "    <tr>\n",
       "      <th>21</th>\n",
       "      <td>22</td>\n",
       "      <td>Справочная информация</td>\n",
       "    </tr>\n",
       "    <tr>\n",
       "      <th>22</th>\n",
       "      <td>23</td>\n",
       "      <td>Территориальное деление</td>\n",
       "    </tr>\n",
       "    <tr>\n",
       "      <th>23</th>\n",
       "      <td>24</td>\n",
       "      <td>Трудоустройство</td>\n",
       "    </tr>\n",
       "  </tbody>\n",
       "</table>\n",
       "</div>"
      ],
      "text/plain": [
       "    id                        category\n",
       "0    1              Активный гражданин\n",
       "1    2                          Выборы\n",
       "2    3              Дороги и транспорт\n",
       "3    4  Жилищно-коммунальное хозяйство\n",
       "4    5                 Здравоохранение\n",
       "5    6                        Культура\n",
       "6    7            Общественное питание\n",
       "7    8       Пешеходная инфраструктура\n",
       "8    9             Религиозные объекты\n",
       "9   10                Социальная среда\n",
       "10  11                   Строительство\n",
       "11  12                        Торговля\n",
       "12  13                    Безопасность\n",
       "13  14          Государственные услуги\n",
       "14  15                   Досуг и отдых\n",
       "15  16               Забота о животных\n",
       "16  17               Земля и имущество\n",
       "17  18                     Образование\n",
       "18  19   Органы государственной власти\n",
       "19  20             Предпринимательство\n",
       "20  21                           Связь\n",
       "21  22           Справочная информация\n",
       "22  23         Территориальное деление\n",
       "23  24                 Трудоустройство"
      ]
     },
     "metadata": {},
     "output_type": "display_data"
    },
    {
     "data": {
      "text/html": [
       "<div>\n",
       "<style scoped>\n",
       "    .dataframe tbody tr th:only-of-type {\n",
       "        vertical-align: middle;\n",
       "    }\n",
       "\n",
       "    .dataframe tbody tr th {\n",
       "        vertical-align: top;\n",
       "    }\n",
       "\n",
       "    .dataframe thead th {\n",
       "        text-align: right;\n",
       "    }\n",
       "</style>\n",
       "<table border=\"1\" class=\"dataframe\">\n",
       "  <thead>\n",
       "    <tr style=\"text-align: right;\">\n",
       "      <th></th>\n",
       "      <th>id</th>\n",
       "      <th>keyword</th>\n",
       "    </tr>\n",
       "  </thead>\n",
       "  <tbody>\n",
       "    <tr>\n",
       "      <th>0</th>\n",
       "      <td>1</td>\n",
       "      <td>Зимние</td>\n",
       "    </tr>\n",
       "    <tr>\n",
       "      <th>1</th>\n",
       "      <td>2</td>\n",
       "      <td>Летние</td>\n",
       "    </tr>\n",
       "    <tr>\n",
       "      <th>2</th>\n",
       "      <td>3</td>\n",
       "      <td>Всесезонные</td>\n",
       "    </tr>\n",
       "  </tbody>\n",
       "</table>\n",
       "</div>"
      ],
      "text/plain": [
       "  id      keyword\n",
       "0  1       Зимние\n",
       "1  2       Летние\n",
       "2  3  Всесезонные"
      ]
     },
     "metadata": {},
     "output_type": "display_data"
    }
   ],
   "source": [
    "query_sql('shumskiiIN.db','SELECT * FROM periodList;')\n",
    "query_sql('shumskiiIN.db','SELECT * FROM actionList;')\n",
    "query_sql('shumskiiIN.db','SELECT * FROM categoryList;')\n",
    "query_sql('shumskiiIN.db','SELECT * FROM keywordList;')"
   ]
  },
  {
   "cell_type": "code",
   "execution_count": 6,
   "id": "65320d5c-3e01-4419-a0d1-5d2c3c699832",
   "metadata": {},
   "outputs": [],
   "source": [
    "#обработчик событий\n",
    "def query_sql (db, query, visible = True):\n",
    "  import sqlite3\n",
    "  sqlite_connection = sqlite3.connect(db)\n",
    "  cursor = sqlite_connection.cursor()\n",
    "  cursor.execute(query)\n",
    "  sqlite_connection.commit()\n",
    "  if visible:\n",
    "    rows = cursor.fetchall()\n",
    "    names = tuple(map(lambda x: x[0], cursor.description))\n",
    "    import pandas as pd\n",
    "    import numpy as np\n",
    "    aa=np.array(rows)\n",
    "    dd=pd.DataFrame(aa, columns=names)\n",
    "    return dd\n",
    "  cursor.close()\n",
    "  sqlite_connection.close()"
   ]
  },
  {
   "cell_type": "code",
   "execution_count": 7,
   "id": "6f8aff18-9d96-461a-b0b9-3b0317d3de39",
   "metadata": {},
   "outputs": [
    {
     "data": {
      "text/html": [
       "<div>\n",
       "<style scoped>\n",
       "    .dataframe tbody tr th:only-of-type {\n",
       "        vertical-align: middle;\n",
       "    }\n",
       "\n",
       "    .dataframe tbody tr th {\n",
       "        vertical-align: top;\n",
       "    }\n",
       "\n",
       "    .dataframe thead th {\n",
       "        text-align: right;\n",
       "    }\n",
       "</style>\n",
       "<table border=\"1\" class=\"dataframe\">\n",
       "  <thead>\n",
       "    <tr style=\"text-align: right;\">\n",
       "      <th></th>\n",
       "      <th>name</th>\n",
       "    </tr>\n",
       "  </thead>\n",
       "  <tbody>\n",
       "    <tr>\n",
       "      <th>0</th>\n",
       "      <td>periodList</td>\n",
       "    </tr>\n",
       "    <tr>\n",
       "      <th>1</th>\n",
       "      <td>categoryList</td>\n",
       "    </tr>\n",
       "    <tr>\n",
       "      <th>2</th>\n",
       "      <td>actionList</td>\n",
       "    </tr>\n",
       "    <tr>\n",
       "      <th>3</th>\n",
       "      <td>keywordList</td>\n",
       "    </tr>\n",
       "    <tr>\n",
       "      <th>4</th>\n",
       "      <td>authority</td>\n",
       "    </tr>\n",
       "    <tr>\n",
       "      <th>5</th>\n",
       "      <td>worker</td>\n",
       "    </tr>\n",
       "    <tr>\n",
       "      <th>6</th>\n",
       "      <td>log</td>\n",
       "    </tr>\n",
       "    <tr>\n",
       "      <th>7</th>\n",
       "      <td>dataSet</td>\n",
       "    </tr>\n",
       "  </tbody>\n",
       "</table>\n",
       "</div>"
      ],
      "text/plain": [
       "           name\n",
       "0    periodList\n",
       "1  categoryList\n",
       "2    actionList\n",
       "3   keywordList\n",
       "4     authority\n",
       "5        worker\n",
       "6           log\n",
       "7       dataSet"
      ]
     },
     "execution_count": 7,
     "metadata": {},
     "output_type": "execute_result"
    }
   ],
   "source": [
    "#Посмотреть список всех таблиц в базе данных\n",
    "query_sql('shumskiiIN.db','SELECT name FROM sqlite_master WHERE type=\\'table\\';')\n"
   ]
  },
  {
   "cell_type": "markdown",
   "id": "c1b36a60-9391-4d8d-a481-991546462bd7",
   "metadata": {},
   "source": [
    "# Создание основных таблиц"
   ]
  },
  {
   "cell_type": "code",
   "execution_count": 14,
   "id": "553e2d1a-0cdf-4537-8806-612e6c106370",
   "metadata": {},
   "outputs": [
    {
     "ename": "OperationalError",
     "evalue": "table authority already exists",
     "output_type": "error",
     "traceback": [
      "\u001b[1;31m---------------------------------------------------------------------------\u001b[0m",
      "\u001b[1;31mOperationalError\u001b[0m                          Traceback (most recent call last)",
      "Cell \u001b[1;32mIn[14], line 2\u001b[0m\n\u001b[0;32m      1\u001b[0m \u001b[38;5;66;03m#создание таблицы authority\u001b[39;00m\n\u001b[1;32m----> 2\u001b[0m \u001b[43mquery_sql\u001b[49m\u001b[43m(\u001b[49m\u001b[38;5;124;43m'\u001b[39;49m\u001b[38;5;124;43mshumskiiIN.db\u001b[39;49m\u001b[38;5;124;43m'\u001b[39;49m\u001b[43m,\u001b[49m\u001b[38;5;124;43m'''\u001b[39;49m\n\u001b[0;32m      3\u001b[0m \u001b[38;5;124;43m    CREATE TABLE authority (id INTEGER PRIMARY KEY NOT NULL, \u001b[39;49m\n\u001b[0;32m      4\u001b[0m \u001b[38;5;124;43m                            name VARCHAR(50) NOT NULL,\u001b[39;49m\n\u001b[0;32m      5\u001b[0m \u001b[38;5;124;43m                            shortName VARCHAR(30),\u001b[39;49m\n\u001b[0;32m      6\u001b[0m \u001b[38;5;124;43m                            firstName VARCHAR(15) NOT NULL,\u001b[39;49m\n\u001b[0;32m      7\u001b[0m \u001b[38;5;124;43m                            lastName VARCHAR(15) NOT NULL,\u001b[39;49m\n\u001b[0;32m      8\u001b[0m \u001b[38;5;124;43m                            middleName VARCHAR(20), \u001b[39;49m\n\u001b[0;32m      9\u001b[0m \u001b[38;5;124;43m                            email VARCHAR(30) NOT NULL,\u001b[39;49m\n\u001b[0;32m     10\u001b[0m \u001b[38;5;124;43m                            tel INTEGER NOT NULL,\u001b[39;49m\n\u001b[0;32m     11\u001b[0m \u001b[38;5;124;43m                            domain VARCHAR(30) NOT NULL,\u001b[39;49m\n\u001b[0;32m     12\u001b[0m \u001b[38;5;124;43m                            street VARCHAR(30) NOT NULL,\u001b[39;49m\n\u001b[0;32m     13\u001b[0m \u001b[38;5;124;43m                            home INTEGER NOT NULL,\u001b[39;49m\n\u001b[0;32m     14\u001b[0m \u001b[38;5;124;43m                            block INTEGER,\u001b[39;49m\n\u001b[0;32m     15\u001b[0m \u001b[38;5;124;43m                            INN INTEGER NOT NULL,\u001b[39;49m\n\u001b[0;32m     16\u001b[0m \u001b[38;5;124;43m                            KPP INTEGER NOT NULL,\u001b[39;49m\n\u001b[0;32m     17\u001b[0m \u001b[38;5;124;43m                            OKOGU INTEGER NOT NULL);\u001b[39;49m\n\u001b[0;32m     18\u001b[0m \u001b[38;5;124;43m                            \u001b[39;49m\n\u001b[0;32m     19\u001b[0m \u001b[38;5;124;43m            \u001b[39;49m\u001b[38;5;124;43m'''\u001b[39;49m\u001b[43m,\u001b[49m\u001b[43m \u001b[49m\u001b[38;5;28;43;01mFalse\u001b[39;49;00m\u001b[43m)\u001b[49m\n",
      "Cell \u001b[1;32mIn[12], line 6\u001b[0m, in \u001b[0;36mquery_sql\u001b[1;34m(db, query, visible)\u001b[0m\n\u001b[0;32m      4\u001b[0m sqlite_connection \u001b[38;5;241m=\u001b[39m sqlite3\u001b[38;5;241m.\u001b[39mconnect(db)\n\u001b[0;32m      5\u001b[0m cursor \u001b[38;5;241m=\u001b[39m sqlite_connection\u001b[38;5;241m.\u001b[39mcursor()\n\u001b[1;32m----> 6\u001b[0m \u001b[43mcursor\u001b[49m\u001b[38;5;241;43m.\u001b[39;49m\u001b[43mexecute\u001b[49m\u001b[43m(\u001b[49m\u001b[43mquery\u001b[49m\u001b[43m)\u001b[49m\n\u001b[0;32m      7\u001b[0m sqlite_connection\u001b[38;5;241m.\u001b[39mcommit()\n\u001b[0;32m      8\u001b[0m \u001b[38;5;28;01mif\u001b[39;00m visible:\n",
      "\u001b[1;31mOperationalError\u001b[0m: table authority already exists"
     ]
    }
   ],
   "source": [
    "#создание таблицы authority\n",
    "query_sql('shumskiiIN.db','''\n",
    "    CREATE TABLE authority (id INTEGER PRIMARY KEY NOT NULL, \n",
    "                            name VARCHAR(50) NOT NULL,\n",
    "                            shortName VARCHAR(30),\n",
    "                            firstName VARCHAR(15) NOT NULL,\n",
    "                            lastName VARCHAR(15) NOT NULL,\n",
    "                            middleName VARCHAR(20), \n",
    "                            email VARCHAR(30) NOT NULL,\n",
    "                            tel INTEGER NOT NULL,\n",
    "                            domain VARCHAR(30) NOT NULL,\n",
    "                            street VARCHAR(30) NOT NULL,\n",
    "                            home INTEGER NOT NULL,\n",
    "                            block INTEGER,\n",
    "                            INN INTEGER NOT NULL,\n",
    "                            KPP INTEGER NOT NULL,\n",
    "                            OKOGU INTEGER NOT NULL);\n",
    "                            \n",
    "            ''', False)"
   ]
  },
  {
   "cell_type": "code",
   "execution_count": 12,
   "id": "448b2e8a-0051-45dc-9852-74e0adecccda",
   "metadata": {},
   "outputs": [],
   "source": [
    "#создание табдицы worker\n",
    "query_sql('shumskiiIN.db','''\n",
    "    CREATE TABLE worker (id INTEGER PRIMARY KEY NOT NULL, \n",
    "                         firstName VARCHAR(15) NOT NULL,\n",
    "                         lastName VARCHAR(15) NOT NULL,\n",
    "                         middleName VARCHAR(20), \n",
    "                         dateBirth VARCHAR(10) NOT NULL,\n",
    "                         position VARCHAR(30) NOT NULL,\n",
    "                         email VARCHAR(30) NOT NULL,\n",
    "                         tel INTEGER NOT NULL,\n",
    "                         placeID INTEGER NOT NULL REFERENCES authority (id)\n",
    "                         ON DELETE NO ACTION ON UPDATE NO ACTION);\n",
    "                                                      \n",
    "            ''', False)"
   ]
  },
  {
   "cell_type": "code",
   "execution_count": 13,
   "id": "36a2377b-44fb-4dac-b085-c8755578a5e3",
   "metadata": {},
   "outputs": [],
   "source": [
    "#создание таблицы log\n",
    "query_sql('shumskiiIN.db','''\n",
    "    CREATE TABLE log (id INTEGER PRIMARY KEY NOT NULL, \n",
    "                      action INTEGER NOT NULL REFERENCES actionList (id)\n",
    "                         ON DELETE NO ACTION ON UPDATE NO ACTION,\n",
    "                      date VARCHAR(10) NOT NULL,\n",
    "                      user INTEGER NOT NULL REFERENCES worker (id)\n",
    "                         ON DELETE NO ACTION ON UPDATE NO ACTION,\n",
    "                      GIS INTEGER NOT NULL,\n",
    "                      dataSet INTEGER NOT NULL REFERENCES dataSet (id)\n",
    "                         ON DELETE NO ACTION ON UPDATE NO ACTION, \n",
    "                      urlXLSX VARCHAR(80),\n",
    "                      urlJSON VARCHAR(80),\n",
    "                      urlCSV VARCHAR(80),\n",
    "                      urlXML VARCHAR(80));\n",
    "            ''', False)"
   ]
  },
  {
   "cell_type": "code",
   "execution_count": 14,
   "id": "0c17b5ba-c315-4cbc-8bd2-81c81cfd35c6",
   "metadata": {},
   "outputs": [],
   "source": [
    "#создание таблицы dataSet\n",
    "query_sql('shumskiiIN.db','''\n",
    "    CREATE TABLE dataSet (id INTEGER PRIMARY KEY NOT NULL,\n",
    "                         name VARCHAR(40) NOT NULL,\n",
    "                         keyword INTEGER NOT NULL REFERENCES keywordList (id)\n",
    "                         ON DELETE NO ACTION ON UPDATE NO ACTION,\n",
    "                         categoryID INTEGER NOT NULL REFERENCES categoryList (id)\n",
    "                         ON DELETE NO ACTION ON UPDATE NO ACTION, \n",
    "                         rating REAL NOT NULL,\n",
    "                         downloadCounter INTEGER NOT NULL,\n",
    "                         updatePeriod INTEGER NOT NULL REFERENCES periodList (id)\n",
    "                         ON DELETE NO ACTION ON UPDATE NO ACTION);\n",
    "          ''', False)"
   ]
  },
  {
   "cell_type": "code",
   "execution_count": 15,
   "id": "b2c64f8b-e5ee-47eb-ab89-65ea273a640e",
   "metadata": {},
   "outputs": [
    {
     "data": {
      "text/html": [
       "<div>\n",
       "<style scoped>\n",
       "    .dataframe tbody tr th:only-of-type {\n",
       "        vertical-align: middle;\n",
       "    }\n",
       "\n",
       "    .dataframe tbody tr th {\n",
       "        vertical-align: top;\n",
       "    }\n",
       "\n",
       "    .dataframe thead th {\n",
       "        text-align: right;\n",
       "    }\n",
       "</style>\n",
       "<table border=\"1\" class=\"dataframe\">\n",
       "  <thead>\n",
       "    <tr style=\"text-align: right;\">\n",
       "      <th></th>\n",
       "      <th>name</th>\n",
       "    </tr>\n",
       "  </thead>\n",
       "  <tbody>\n",
       "    <tr>\n",
       "      <th>0</th>\n",
       "      <td>periodList</td>\n",
       "    </tr>\n",
       "    <tr>\n",
       "      <th>1</th>\n",
       "      <td>categoryList</td>\n",
       "    </tr>\n",
       "    <tr>\n",
       "      <th>2</th>\n",
       "      <td>actionList</td>\n",
       "    </tr>\n",
       "    <tr>\n",
       "      <th>3</th>\n",
       "      <td>keywordList</td>\n",
       "    </tr>\n",
       "    <tr>\n",
       "      <th>4</th>\n",
       "      <td>authority</td>\n",
       "    </tr>\n",
       "    <tr>\n",
       "      <th>5</th>\n",
       "      <td>worker</td>\n",
       "    </tr>\n",
       "    <tr>\n",
       "      <th>6</th>\n",
       "      <td>log</td>\n",
       "    </tr>\n",
       "    <tr>\n",
       "      <th>7</th>\n",
       "      <td>dataSet</td>\n",
       "    </tr>\n",
       "  </tbody>\n",
       "</table>\n",
       "</div>"
      ],
      "text/plain": [
       "           name\n",
       "0    periodList\n",
       "1  categoryList\n",
       "2    actionList\n",
       "3   keywordList\n",
       "4     authority\n",
       "5        worker\n",
       "6           log\n",
       "7       dataSet"
      ]
     },
     "execution_count": 15,
     "metadata": {},
     "output_type": "execute_result"
    }
   ],
   "source": [
    "#Посмотреть список всех таблиц в базе данных\n",
    "query_sql('shumskiiIN.db','SELECT name FROM sqlite_master WHERE type=\\'table\\';')"
   ]
  },
  {
   "cell_type": "code",
   "execution_count": 8,
   "id": "8d381a74-49ae-4e9d-a457-ebb4683cb40f",
   "metadata": {},
   "outputs": [
    {
     "name": "stdout",
     "output_type": "stream",
     "text": [
      "Заполнение списка таблиц БД\n"
     ]
    },
    {
     "data": {
      "application/vnd.jupyter.widget-view+json": {
       "model_id": "a2d0dd5bc8764cb4886b2afa23e48dc5",
       "version_major": 2,
       "version_minor": 0
      },
      "text/plain": [
       "Button(description='Cписок таблиц', style=ButtonStyle())"
      ]
     },
     "metadata": {},
     "output_type": "display_data"
    },
    {
     "data": {
      "application/vnd.jupyter.widget-view+json": {
       "model_id": "dfdbd77813d347ca8dd6bef8fd099790",
       "version_major": 2,
       "version_minor": 0
      },
      "text/plain": [
       "Output()"
      ]
     },
     "metadata": {},
     "output_type": "display_data"
    }
   ],
   "source": [
    "from ipywidgets import widgets\n",
    "from IPython.display import clear_output\n",
    "style = {'description_width': 'initial'}\n",
    "list_tables_button = widgets.Button(description=\"Cписок таблиц\", style = style)\n",
    "\n",
    "output = widgets.Output()\n",
    "print('Заполнение списка таблиц БД')\n",
    "display(list_tables_button,output)\n",
    "\n",
    "def on_list_button_clicked(b):\n",
    "    with output:\n",
    "        clear_output()\n",
    "        display(query_sql('shumskiiIN.db','SELECT name FROM sqlite_master WHERE type=\\'table\\';'))\n",
    "    \n",
    "list_tables_button.on_click(on_list_button_clicked)"
   ]
  },
  {
   "cell_type": "markdown",
   "id": "201e44f4-daba-453a-927a-5ce448035c36",
   "metadata": {},
   "source": [
    "# Создание экранных форм"
   ]
  },
  {
   "cell_type": "code",
   "execution_count": 16,
   "id": "8e16d0a2-9103-470f-aa6e-a4e7a1ee8938",
   "metadata": {},
   "outputs": [
    {
     "name": "stdout",
     "output_type": "stream",
     "text": [
      "Заполнение таблицы authority\n"
     ]
    },
    {
     "data": {
      "application/vnd.jupyter.widget-view+json": {
       "model_id": "1934f86bfa814ebeb5cc7f8b801c3b5f",
       "version_major": 2,
       "version_minor": 0
      },
      "text/plain": [
       "IntText(value=1, description='id:')"
      ]
     },
     "metadata": {},
     "output_type": "display_data"
    },
    {
     "data": {
      "application/vnd.jupyter.widget-view+json": {
       "model_id": "6b04fd5c27934c50bfeeaee631689312",
       "version_major": 2,
       "version_minor": 0
      },
      "text/plain": [
       "Text(value='Название ОИВ', description='Наименование:')"
      ]
     },
     "metadata": {},
     "output_type": "display_data"
    },
    {
     "data": {
      "application/vnd.jupyter.widget-view+json": {
       "model_id": "1b022c1320944a5396bb43598398b74e",
       "version_major": 2,
       "version_minor": 0
      },
      "text/plain": [
       "Text(value='Сокращенное название', description='Сокращенное наименование:')"
      ]
     },
     "metadata": {},
     "output_type": "display_data"
    },
    {
     "data": {
      "application/vnd.jupyter.widget-view+json": {
       "model_id": "78213766428c4320a72da73b57ca04db",
       "version_major": 2,
       "version_minor": 0
      },
      "text/plain": [
       "Text(value='Иванов', description='Фамилия:')"
      ]
     },
     "metadata": {},
     "output_type": "display_data"
    },
    {
     "data": {
      "application/vnd.jupyter.widget-view+json": {
       "model_id": "e420c80a47f6479cb5ffbaf679a42232",
       "version_major": 2,
       "version_minor": 0
      },
      "text/plain": [
       "Text(value='Иван', description='Имя:')"
      ]
     },
     "metadata": {},
     "output_type": "display_data"
    },
    {
     "data": {
      "application/vnd.jupyter.widget-view+json": {
       "model_id": "284b741e000f477cbd667ced16416059",
       "version_major": 2,
       "version_minor": 0
      },
      "text/plain": [
       "Text(value='Иванович', description='Отчество:')"
      ]
     },
     "metadata": {},
     "output_type": "display_data"
    },
    {
     "data": {
      "application/vnd.jupyter.widget-view+json": {
       "model_id": "16c80dba44734445aadacab649b42c25",
       "version_major": 2,
       "version_minor": 0
      },
      "text/plain": [
       "Text(value='sample@mos.ru', description='E-mail:')"
      ]
     },
     "metadata": {},
     "output_type": "display_data"
    },
    {
     "data": {
      "application/vnd.jupyter.widget-view+json": {
       "model_id": "c39d80122c79451384ef495296022818",
       "version_major": 2,
       "version_minor": 0
      },
      "text/plain": [
       "IntText(value=79123456789, description='Номер телефона:', style=DescriptionStyle(description_width='initial'))"
      ]
     },
     "metadata": {},
     "output_type": "display_data"
    },
    {
     "data": {
      "application/vnd.jupyter.widget-view+json": {
       "model_id": "ec6bc4aa2d0647359fdb21239bc51413",
       "version_major": 2,
       "version_minor": 0
      },
      "text/plain": [
       "Text(value='mos.ru', description='Домен:')"
      ]
     },
     "metadata": {},
     "output_type": "display_data"
    },
    {
     "data": {
      "application/vnd.jupyter.widget-view+json": {
       "model_id": "dd95e1190fd24ab3bce9486231b1b423",
       "version_major": 2,
       "version_minor": 0
      },
      "text/plain": [
       "Text(value='Тверская', description='Улица:')"
      ]
     },
     "metadata": {},
     "output_type": "display_data"
    },
    {
     "data": {
      "application/vnd.jupyter.widget-view+json": {
       "model_id": "ee0f1621fb4e4e44a5281e57a4fd6a63",
       "version_major": 2,
       "version_minor": 0
      },
      "text/plain": [
       "IntText(value=13, description='Номер дома:', style=DescriptionStyle(description_width='initial'))"
      ]
     },
     "metadata": {},
     "output_type": "display_data"
    },
    {
     "data": {
      "application/vnd.jupyter.widget-view+json": {
       "model_id": "78fd15d94df64cb3bbd1f44d053cab94",
       "version_major": 2,
       "version_minor": 0
      },
      "text/plain": [
       "IntText(value=1, description='Строение/корпус:', style=DescriptionStyle(description_width='initial'))"
      ]
     },
     "metadata": {},
     "output_type": "display_data"
    },
    {
     "data": {
      "application/vnd.jupyter.widget-view+json": {
       "model_id": "dd325f2a4e494ca6966b40b3222354d9",
       "version_major": 2,
       "version_minor": 0
      },
      "text/plain": [
       "IntText(value=770000000000, description='ИНН:')"
      ]
     },
     "metadata": {},
     "output_type": "display_data"
    },
    {
     "data": {
      "application/vnd.jupyter.widget-view+json": {
       "model_id": "8b55ffd091b443f1a1bc7327c1670fc8",
       "version_major": 2,
       "version_minor": 0
      },
      "text/plain": [
       "IntText(value=770000000, description='КПП:')"
      ]
     },
     "metadata": {},
     "output_type": "display_data"
    },
    {
     "data": {
      "application/vnd.jupyter.widget-view+json": {
       "model_id": "da590050296c419dbfcd8fff155dc36c",
       "version_major": 2,
       "version_minor": 0
      },
      "text/plain": [
       "IntText(value=770000000, description='ОКГУ:')"
      ]
     },
     "metadata": {},
     "output_type": "display_data"
    },
    {
     "data": {
      "application/vnd.jupyter.widget-view+json": {
       "model_id": "201930aaf5a347a2b8cd71ee4c21a872",
       "version_major": 2,
       "version_minor": 0
      },
      "text/plain": [
       "Button(description='Записать в  БД', style=ButtonStyle())"
      ]
     },
     "metadata": {},
     "output_type": "display_data"
    }
   ],
   "source": [
    "#authority-form\n",
    "import ipywidgets as widgets #Подключаем библиотеку виджетов\n",
    "from IPython.display import display # импортируем функцию для визуализации виджетов\n",
    "\n",
    "style = {'description_width': 'initial'} #Делаем установку ширины поля discription под размер текста в нем\n",
    "id = widgets.IntText(value=1, description='id:', disabled=False)\n",
    "name = widgets.Text(value='Название ОИВ', description='Наименование:', disabled=False)\n",
    "shortName = widgets.Text(value='Сокращенное название', description='Сокращенное наименование:', disabled=False)\n",
    "lastName = widgets.Text(value='Иванов', description='Фамилия:', disabled=False)\n",
    "firstName = widgets.Text(value='Иван', description='Имя:', disabled=False)\n",
    "middleName = widgets.Text(value='Иванович', description='Отчество:', disabled=False)\n",
    "email = widgets.Text(value='sample@mos.ru', description='E-mail:', disabled=False)\n",
    "tel = widgets.IntText(value=79123456789, description='Номер телефона:', disabled=False, style=style)\n",
    "domain = widgets.Text(value='mos.ru', description='Домен:', disabled=False)\n",
    "street = widgets.Text(value='Тверская', description='Улица:', disabled=False)\n",
    "home = widgets.IntText(value=13, description='Номер дома:', disabled=False, style=style)\n",
    "block = widgets.IntText(value=1, description='Строение/корпус:', disabled=False, style=style)\n",
    "INN = widgets.IntText(value=770000000000, description='ИНН:', disabled=False)\n",
    "KPP = widgets.IntText(value=770000000, description='КПП:', disabled=False)\n",
    "OKOGU = widgets.IntText(value=770000000, description='ОКГУ:', disabled=False)\n",
    "button = widgets.Button(description='Записать в  БД', disabled=False, button_style='')\n",
    "print('Заполнение таблицы authority')\n",
    "display(id, name, shortName, lastName, firstName, middleName, email, tel, domain, street, home, block, INN, KPP, OKOGU, button)\n",
    "\n",
    "def button_clicked(b):\n",
    "    query = '''INSERT INTO authority (id, name, shortName, lastName, firstName, middleName, email, tel,\n",
    "    domain, street, home, block, INN, KPP, OKOGU) VALUES '''\n",
    "    \n",
    "    query += '(' + str(id.value) + ',' + '\\''+ name.value + '\\'' + ',' + '\\''+ shortName.value + '\\'' + ','\n",
    "    query += '\\''+ lastName.value + '\\'' + ',' + '\\''+ firstName.value + '\\'' + ','\n",
    "    query += '\\'' + middleName.value + '\\'' + ',' + '\\''+ email.value + '\\'' + ',' + str(tel.value) + ','\n",
    "    query += '\\'' + domain.value + '\\'' + ',' + '\\''+ street.value + '\\'' + ',' + str(home.value) + ','\n",
    "    query += str(block.value) + ',' + str(INN.value) + ',' + str(KPP.value) + ',' + str(OKOGU.value) + ');'\n",
    "    print(query_sql)\n",
    "    query_sql('shumskiiIN.db', query, False)\n",
    "\n",
    "\n",
    "button.on_click(button_clicked)"
   ]
  },
  {
   "cell_type": "code",
   "execution_count": 17,
   "id": "49d368e3-3d5e-429d-a7b6-b2a706715bd4",
   "metadata": {},
   "outputs": [
    {
     "name": "stdout",
     "output_type": "stream",
     "text": [
      "Заполнение таблицы worker\n"
     ]
    },
    {
     "name": "stderr",
     "output_type": "stream",
     "text": [
      "C:\\Users\\event\\AppData\\Local\\Temp\\ipykernel_17704\\2783238347.py:15: FutureWarning: Series.__getitem__ treating keys as positions is deprecated. In a future version, integer keys will always be treated as labels (consistent with DataFrame behavior). To access a value by position, use `ser.iloc[pos]`\n",
      "  options=[tuple([R.iloc[i][1], int(R.iloc[i][0])]) for i in range(len(R['id']))],\n"
     ]
    },
    {
     "data": {
      "application/vnd.jupyter.widget-view+json": {
       "model_id": "585bef7b56db4b05a360f5cff91a4e51",
       "version_major": 2,
       "version_minor": 0
      },
      "text/plain": [
       "IntText(value=1, description='id:')"
      ]
     },
     "metadata": {},
     "output_type": "display_data"
    },
    {
     "data": {
      "application/vnd.jupyter.widget-view+json": {
       "model_id": "9e3e211e3cb84562850e7735f0d9c8f1",
       "version_major": 2,
       "version_minor": 0
      },
      "text/plain": [
       "Text(value='Иванов', description='Фамилия:')"
      ]
     },
     "metadata": {},
     "output_type": "display_data"
    },
    {
     "data": {
      "application/vnd.jupyter.widget-view+json": {
       "model_id": "6f2ad719e17d4c0595d4172d38aa43e7",
       "version_major": 2,
       "version_minor": 0
      },
      "text/plain": [
       "Text(value='Иван', description='Имя:')"
      ]
     },
     "metadata": {},
     "output_type": "display_data"
    },
    {
     "data": {
      "application/vnd.jupyter.widget-view+json": {
       "model_id": "3677671e1e764e98abb471ae761f06ed",
       "version_major": 2,
       "version_minor": 0
      },
      "text/plain": [
       "Text(value='Иванович', description='Отчество:')"
      ]
     },
     "metadata": {},
     "output_type": "display_data"
    },
    {
     "data": {
      "application/vnd.jupyter.widget-view+json": {
       "model_id": "32dfb300ff0447a188712d5b8f967621",
       "version_major": 2,
       "version_minor": 0
      },
      "text/plain": [
       "DatePicker(value=None, description='Дата рождения:', step=1, style=DescriptionStyle(description_width='initial…"
      ]
     },
     "metadata": {},
     "output_type": "display_data"
    },
    {
     "data": {
      "application/vnd.jupyter.widget-view+json": {
       "model_id": "4e8cd60c18d94c96bf9b6d3aff390949",
       "version_major": 2,
       "version_minor": 0
      },
      "text/plain": [
       "Text(value='sample@mos.ru', description='E-mail:')"
      ]
     },
     "metadata": {},
     "output_type": "display_data"
    },
    {
     "data": {
      "application/vnd.jupyter.widget-view+json": {
       "model_id": "f1cf3939ee04452ebcd78ecb0b40577a",
       "version_major": 2,
       "version_minor": 0
      },
      "text/plain": [
       "IntText(value=79123456789, description='Номер телефона:', style=DescriptionStyle(description_width='initial'))"
      ]
     },
     "metadata": {},
     "output_type": "display_data"
    },
    {
     "data": {
      "application/vnd.jupyter.widget-view+json": {
       "model_id": "b65629d4acf545e6bb25dc12d1a0a2cf",
       "version_major": 2,
       "version_minor": 0
      },
      "text/plain": [
       "Dropdown(description='Организация:', options=(('Комитет по туризму города Москвы', 1), ('Департамент образован…"
      ]
     },
     "metadata": {},
     "output_type": "display_data"
    },
    {
     "data": {
      "application/vnd.jupyter.widget-view+json": {
       "model_id": "aa572abd8e6f43c9958a75a7340f039f",
       "version_major": 2,
       "version_minor": 0
      },
      "text/plain": [
       "Text(value='Ведущий специалист', description='Должность:')"
      ]
     },
     "metadata": {},
     "output_type": "display_data"
    },
    {
     "data": {
      "application/vnd.jupyter.widget-view+json": {
       "model_id": "2277c6f5b45b4505857835490182e937",
       "version_major": 2,
       "version_minor": 0
      },
      "text/plain": [
       "Button(description='Записать в  БД', style=ButtonStyle())"
      ]
     },
     "metadata": {},
     "output_type": "display_data"
    }
   ],
   "source": [
    "#worker-form\n",
    "import ipywidgets as widgets #Подключаем библиотеку виджетов\n",
    "from IPython.display import display # импортируем функцию для визуализации виджетов\n",
    "\n",
    "style = {'description_width': 'initial'} #Делаем установку ширины поля discription под размер текста в нем\n",
    "id = widgets.IntText(value=1, description='id:', disabled=False)\n",
    "lastName = widgets.Text(value='Иванов', description='Фамилия:', disabled=False)\n",
    "firstName = widgets.Text(value='Иван', description='Имя:', disabled=False)\n",
    "middleName = widgets.Text(value='Иванович', description='Отчество:', disabled=False)\n",
    "dateBirth = widgets.DatePicker(description='Дата рождения:', disabled=False, style=style)\n",
    "email = widgets.Text(value='sample@mos.ru', description='E-mail:', disabled=False)\n",
    "tel = widgets.IntText(value=79123456789, description='Номер телефона:', disabled=False, style=style)\n",
    "R=query_sql('shumskiiIN.db','select * from authority;')\n",
    "placeID=widgets.Dropdown(\n",
    "    options=[tuple([R.iloc[i][1], int(R.iloc[i][0])]) for i in range(len(R['id']))],\n",
    "    value = 1,\n",
    "    description='Организация:',\n",
    "    disabled=False\n",
    ")\n",
    "position = widgets.Text(value='Ведущий специалист', description='Должность:', disabled=False)\n",
    "\n",
    "\n",
    "button = widgets.Button(description='Записать в  БД', disabled=False, button_style='')\n",
    "print('Заполнение таблицы worker')\n",
    "display(id, lastName, firstName, middleName, dateBirth, email, tel, placeID, position, button)\n",
    "\n",
    "def button_clicked(b):\n",
    "    query = '''INSERT INTO worker (id, lastName, firstName, middleName,\n",
    "    dateBirth, email, tel, placeID, position) VALUES '''\n",
    "    \n",
    "    query += '(' + str(id.value) + ',' + '\\''+ lastName.value + '\\'' + ',' + '\\''+ firstName.value + '\\'' + ','\n",
    "    query += '\\'' + middleName.value + '\\'' + ',' +  str(dateBirth.value) + ',' + '\\''+ email.value + '\\'' + ',' \n",
    "    query += str(tel.value) + ',' + str(placeID.value) + ',' + '\\''+ position.value + '\\');'\n",
    "    print(query_sql)\n",
    "    query_sql('shumskiiIN.db', query, False)\n",
    "    \n",
    "    \n",
    "button.on_click(button_clicked)"
   ]
  },
  {
   "cell_type": "code",
   "execution_count": 18,
   "id": "a251e346-c0cc-47c4-9022-95c8fa8c4698",
   "metadata": {},
   "outputs": [
    {
     "name": "stdout",
     "output_type": "stream",
     "text": [
      "Заполнение таблицы dataSet\n"
     ]
    },
    {
     "name": "stderr",
     "output_type": "stream",
     "text": [
      "C:\\Users\\event\\AppData\\Local\\Temp\\ipykernel_17704\\4005398500.py:11: FutureWarning: Series.__getitem__ treating keys as positions is deprecated. In a future version, integer keys will always be treated as labels (consistent with DataFrame behavior). To access a value by position, use `ser.iloc[pos]`\n",
      "  options=[tuple([R.iloc[i][1], int(R.iloc[i][0])]) for i in range(len(R['id']))],\n",
      "C:\\Users\\event\\AppData\\Local\\Temp\\ipykernel_17704\\4005398500.py:19: FutureWarning: Series.__getitem__ treating keys as positions is deprecated. In a future version, integer keys will always be treated as labels (consistent with DataFrame behavior). To access a value by position, use `ser.iloc[pos]`\n",
      "  options=[tuple([R.iloc[i][1], int(R.iloc[i][0])]) for i in range(len(R['id']))],\n",
      "C:\\Users\\event\\AppData\\Local\\Temp\\ipykernel_17704\\4005398500.py:27: FutureWarning: Series.__getitem__ treating keys as positions is deprecated. In a future version, integer keys will always be treated as labels (consistent with DataFrame behavior). To access a value by position, use `ser.iloc[pos]`\n",
      "  options=[tuple([R.iloc[i][1], int(R.iloc[i][0])]) for i in range(len(R['id']))],\n"
     ]
    },
    {
     "data": {
      "application/vnd.jupyter.widget-view+json": {
       "model_id": "49defafb43ce40da99864ff904e9f16b",
       "version_major": 2,
       "version_minor": 0
      },
      "text/plain": [
       "IntText(value=1, description='id:')"
      ]
     },
     "metadata": {},
     "output_type": "display_data"
    },
    {
     "data": {
      "application/vnd.jupyter.widget-view+json": {
       "model_id": "3824e55cee584f4c9623694145558f09",
       "version_major": 2,
       "version_minor": 0
      },
      "text/plain": [
       "Text(value='Название набора:', description='Наименование:')"
      ]
     },
     "metadata": {},
     "output_type": "display_data"
    },
    {
     "data": {
      "application/vnd.jupyter.widget-view+json": {
       "model_id": "6bc200872fba431ab346d6c2d42319a2",
       "version_major": 2,
       "version_minor": 0
      },
      "text/plain": [
       "Dropdown(description='Категория:', options=(('Активный гражданин', 1), ('Выборы', 2), ('Дороги и транспорт', 3…"
      ]
     },
     "metadata": {},
     "output_type": "display_data"
    },
    {
     "data": {
      "application/vnd.jupyter.widget-view+json": {
       "model_id": "017628b3d5a54d648bcf0215a378b2ee",
       "version_major": 2,
       "version_minor": 0
      },
      "text/plain": [
       "Dropdown(description='Ключевое слово:', options=(('Зимние', 1), ('Летние', 2), ('Всесезонные', 3)), value=1)"
      ]
     },
     "metadata": {},
     "output_type": "display_data"
    },
    {
     "data": {
      "application/vnd.jupyter.widget-view+json": {
       "model_id": "307280d3fadf45809e35501f839b63ce",
       "version_major": 2,
       "version_minor": 0
      },
      "text/plain": [
       "Dropdown(description='Период актуализации:', options=(('Ежемесячно', 1), ('Ежеквартально', 2), ('Ежегодно', 3)…"
      ]
     },
     "metadata": {},
     "output_type": "display_data"
    },
    {
     "data": {
      "application/vnd.jupyter.widget-view+json": {
       "model_id": "ae88229c79764d3cb53b367e2d98fa70",
       "version_major": 2,
       "version_minor": 0
      },
      "text/plain": [
       "FloatSlider(value=5.5, continuous_update=False, description='Рейтинг:', max=10.0, readout_format='.1f')"
      ]
     },
     "metadata": {},
     "output_type": "display_data"
    },
    {
     "data": {
      "application/vnd.jupyter.widget-view+json": {
       "model_id": "634bec8299d645d29dab10a37b86f004",
       "version_major": 2,
       "version_minor": 0
      },
      "text/plain": [
       "IntText(value=10, description='Количество скачиваний', style=DescriptionStyle(description_width='initial'))"
      ]
     },
     "metadata": {},
     "output_type": "display_data"
    },
    {
     "data": {
      "application/vnd.jupyter.widget-view+json": {
       "model_id": "dc2505b4e550403e940620976d1918aa",
       "version_major": 2,
       "version_minor": 0
      },
      "text/plain": [
       "Button(description='Записать в  БД', style=ButtonStyle())"
      ]
     },
     "metadata": {},
     "output_type": "display_data"
    }
   ],
   "source": [
    "#dataSet-form\n",
    "import ipywidgets as widgets #Подключаем библиотеку виджетов\n",
    "from IPython.display import display # импортируем функцию для визуализации виджетов\n",
    "\n",
    "style = {'description_width': 'initial'} #Делаем установку ширины поля discription под размер текста в нем\n",
    "id = widgets.IntText(value=1, description='id:', disabled=False)\n",
    "name = widgets.Text(value='Название набора:', description='Наименование:', disabled=False)\n",
    "\n",
    "R=query_sql('shumskiiIN.db','select * from categoryList;')\n",
    "categoryID=widgets.Dropdown(\n",
    "    options=[tuple([R.iloc[i][1], int(R.iloc[i][0])]) for i in range(len(R['id']))],\n",
    "    value = 1,\n",
    "    description='Категория:',\n",
    "    disabled=False\n",
    ")\n",
    "\n",
    "R=query_sql('shumskiiIN.db','select * from keywordList;')\n",
    "keyword=widgets.Dropdown(\n",
    "    options=[tuple([R.iloc[i][1], int(R.iloc[i][0])]) for i in range(len(R['id']))],\n",
    "    value = 1,\n",
    "    description='Ключевое слово:',\n",
    "    disabled=False\n",
    ")\n",
    "\n",
    "R=query_sql('shumskiiIN.db','select * from periodList;')\n",
    "updatePeriod=widgets.Dropdown(\n",
    "    options=[tuple([R.iloc[i][1], int(R.iloc[i][0])]) for i in range(len(R['id']))],\n",
    "    value = 1,\n",
    "    description='Период актуализации:',\n",
    "    disabled=False\n",
    ")\n",
    "rating = widgets.FloatSlider(value=5.5, min=0, max=10.0, step=0.1, description='Рейтинг:', disabled=False, continuous_update=False, orientation='horizontal', readout=True, readout_format='.1f')\n",
    "downloadCounter = widgets.IntText(value=10, description='Количество скачиваний', disabled=False, style=style)\n",
    "\n",
    "\n",
    "button = widgets.Button(description='Записать в  БД', disabled=False, button_style='')\n",
    "print('Заполнение таблицы dataSet')\n",
    "display(id, name, categoryID, keyword, updatePeriod, rating, downloadCounter, button)\n",
    "\n",
    "def button_clicked(b):\n",
    "    query = '''INSERT INTO dataSet (id, name, categoryID, keyword, updatePeriod, rating, downloadCounter) VALUES '''\n",
    "    \n",
    "    query += '(' + str(id.value) + ',' + '\\''+ name.value + '\\'' + ',' \n",
    "    query += str(categoryID.value) + ',' + str(keyword.value) + ',' + str(updatePeriod.value) + ',' \n",
    "    query += str(rating.value) + ',' + str(downloadCounter.value) + ');'\n",
    "    print(query_sql)\n",
    "    query_sql('shumskiiIN.db', query, False)\n",
    "    \n",
    "    \n",
    "button.on_click(button_clicked)"
   ]
  },
  {
   "cell_type": "code",
   "execution_count": 9,
   "id": "1c5de4ec-98d6-40b6-9a94-c1cdb932890b",
   "metadata": {},
   "outputs": [
    {
     "name": "stdout",
     "output_type": "stream",
     "text": [
      "Заполнение таблицы dataSet\n"
     ]
    },
    {
     "name": "stderr",
     "output_type": "stream",
     "text": [
      "C:\\Users\\event\\AppData\\Local\\Temp\\ipykernel_5652\\1394135512.py:10: FutureWarning: Series.__getitem__ treating keys as positions is deprecated. In a future version, integer keys will always be treated as labels (consistent with DataFrame behavior). To access a value by position, use `ser.iloc[pos]`\n",
      "  options=[tuple([R.iloc[i][1], int(R.iloc[i][0])]) for i in range(len(R['id']))],\n",
      "C:\\Users\\event\\AppData\\Local\\Temp\\ipykernel_5652\\1394135512.py:20: FutureWarning: Series.__getitem__ treating keys as positions is deprecated. In a future version, integer keys will always be treated as labels (consistent with DataFrame behavior). To access a value by position, use `ser.iloc[pos]`\n",
      "  options=[tuple([R.iloc[i][2] + ' ' + R.iloc[i][1] + ' ' + R.iloc[i][3], int(R.iloc[i][0])]) for i in range(len(R['id']))],\n",
      "C:\\Users\\event\\AppData\\Local\\Temp\\ipykernel_5652\\1394135512.py:30: FutureWarning: Series.__getitem__ treating keys as positions is deprecated. In a future version, integer keys will always be treated as labels (consistent with DataFrame behavior). To access a value by position, use `ser.iloc[pos]`\n",
      "  options=[tuple([R.iloc[i][1], int(R.iloc[i][0])]) for i in range(len(R['id']))],\n"
     ]
    },
    {
     "data": {
      "application/vnd.jupyter.widget-view+json": {
       "model_id": "17998dd3fdba4f14b63c5e4d85b5a97e",
       "version_major": 2,
       "version_minor": 0
      },
      "text/plain": [
       "IntText(value=1, description='id:')"
      ]
     },
     "metadata": {},
     "output_type": "display_data"
    },
    {
     "data": {
      "application/vnd.jupyter.widget-view+json": {
       "model_id": "5cc865044d7e4655bcfbf4e34610af74",
       "version_major": 2,
       "version_minor": 0
      },
      "text/plain": [
       "Dropdown(description='Набор данных:', options=(('Перечень  туристических маршрутов ', 1), ('Образовательные уч…"
      ]
     },
     "metadata": {},
     "output_type": "display_data"
    },
    {
     "data": {
      "application/vnd.jupyter.widget-view+json": {
       "model_id": "de549896dcb14d03bc0b3f076d68d2b8",
       "version_major": 2,
       "version_minor": 0
      },
      "text/plain": [
       "Dropdown(description='Сотрудник:', options=(('Лосева Александра Васильевна', 1), ('Гусев Артур Леонидович', 2)…"
      ]
     },
     "metadata": {},
     "output_type": "display_data"
    },
    {
     "data": {
      "application/vnd.jupyter.widget-view+json": {
       "model_id": "b5a4d0a1d04d4f6d908c59dd58585556",
       "version_major": 2,
       "version_minor": 0
      },
      "text/plain": [
       "Dropdown(description='Действие:', options=(('Опубликован', 1), ('Архивирован', 2), ('Изъят из публичного досту…"
      ]
     },
     "metadata": {},
     "output_type": "display_data"
    },
    {
     "data": {
      "application/vnd.jupyter.widget-view+json": {
       "model_id": "7af6d0435b3e4e8eb8ff19a90054593a",
       "version_major": 2,
       "version_minor": 0
      },
      "text/plain": [
       "DatePicker(value=None, description='Дата:', step=1, style=DescriptionStyle(description_width='initial'))"
      ]
     },
     "metadata": {},
     "output_type": "display_data"
    },
    {
     "data": {
      "application/vnd.jupyter.widget-view+json": {
       "model_id": "4487a7a286054bce8e8432a2dc6e993b",
       "version_major": 2,
       "version_minor": 0
      },
      "text/plain": [
       "IntText(value=1, description='ИД ГИС:')"
      ]
     },
     "metadata": {},
     "output_type": "display_data"
    },
    {
     "data": {
      "application/vnd.jupyter.widget-view+json": {
       "model_id": "300dafd5b5cd45a08319cf71ec8a4ef7",
       "version_major": 2,
       "version_minor": 0
      },
      "text/plain": [
       "Text(value='//localhost:8888/', description='XLSX-формат:')"
      ]
     },
     "metadata": {},
     "output_type": "display_data"
    },
    {
     "data": {
      "application/vnd.jupyter.widget-view+json": {
       "model_id": "877bfeb02066493489c15ea1d1e66b3c",
       "version_major": 2,
       "version_minor": 0
      },
      "text/plain": [
       "Text(value='//localhost:8888/', description='JSON-формат:')"
      ]
     },
     "metadata": {},
     "output_type": "display_data"
    },
    {
     "data": {
      "application/vnd.jupyter.widget-view+json": {
       "model_id": "0c213dfc6c2a48c2bec66fcaedbd7542",
       "version_major": 2,
       "version_minor": 0
      },
      "text/plain": [
       "Text(value='//localhost:8888/', description='CSV-формат:')"
      ]
     },
     "metadata": {},
     "output_type": "display_data"
    },
    {
     "data": {
      "application/vnd.jupyter.widget-view+json": {
       "model_id": "f08938ef31944b1786b983e96d2cd819",
       "version_major": 2,
       "version_minor": 0
      },
      "text/plain": [
       "Text(value='//localhost:8888/', description='XML-формат:')"
      ]
     },
     "metadata": {},
     "output_type": "display_data"
    },
    {
     "data": {
      "application/vnd.jupyter.widget-view+json": {
       "model_id": "e1c160bc90c847afa5d7ba571df55a12",
       "version_major": 2,
       "version_minor": 0
      },
      "text/plain": [
       "Button(description='Записать в  БД', style=ButtonStyle())"
      ]
     },
     "metadata": {},
     "output_type": "display_data"
    }
   ],
   "source": [
    "#log-form\n",
    "import ipywidgets as widgets #Подключаем библиотеку виджетов\n",
    "from IPython.display import display # импортируем функцию для визуализации виджетов\n",
    "\n",
    "style = {'description_width': 'initial'} #Делаем установку ширины поля discription под размер текста в нем\n",
    "id = widgets.IntText(value=1, description='id:', disabled=False)\n",
    "\n",
    "R=query_sql('shumskiiIN.db','select * from actionList;')\n",
    "action=widgets.Dropdown(\n",
    "    options=[tuple([R.iloc[i][1], int(R.iloc[i][0])]) for i in range(len(R['id']))],\n",
    "    value = 1,\n",
    "    description='Действие:',\n",
    "    disabled=False\n",
    ")\n",
    "\n",
    "date = widgets.DatePicker(description='Дата:', disabled=False, style=style)\n",
    "\n",
    "R=query_sql('shumskiiIN.db','select * from worker;')\n",
    "user=widgets.Dropdown(\n",
    "   options=[tuple([R.iloc[i][2] + ' ' + R.iloc[i][1] + ' ' + R.iloc[i][3], int(R.iloc[i][0])]) for i in range(len(R['id']))],\n",
    "    value = 1,\n",
    "    description='Сотрудник:',\n",
    "    disabled=False\n",
    ")\n",
    "\n",
    "GIS = widgets.IntText(value=1, description='ИД ГИС:', disabled=False)\n",
    "\n",
    "R=query_sql('shumskiiIN.db','select * from dataSet;')\n",
    "dataSet=widgets.Dropdown(\n",
    "    options=[tuple([R.iloc[i][1], int(R.iloc[i][0])]) for i in range(len(R['id']))],\n",
    "    value = 1,\n",
    "    description='Набор данных:',\n",
    "    disabled=False\n",
    ")\n",
    "\n",
    " \n",
    "urlXLSX = widgets.Text(value='//localhost:8888/', description='XLSX-формат:', disabled=False)\n",
    "urlJSON = widgets.Text(value='//localhost:8888/', description='JSON-формат:', disabled=False)\n",
    "urlCSV = widgets.Text(value='//localhost:8888/', description='CSV-формат:', disabled=False)\n",
    "urlXML = widgets.Text(value='//localhost:8888/', description='XML-формат:', disabled=False)\n",
    "\n",
    "\n",
    "button = widgets.Button(description='Записать в  БД', disabled=False, button_style='')\n",
    "print('Заполнение таблицы dataSet')\n",
    "display(id, dataSet, user, action, date, GIS, urlXLSX, urlJSON, urlCSV, urlXML, button)\n",
    "\n",
    "def button_clicked(b):\n",
    "    query = '''INSERT INTO log (id, dataSet, user, action, date, GIS, urlXLSX, urlJSON, urlCSV, urlXML) VALUES '''\n",
    "    \n",
    "    query += '(' + str(id.value) + ',' + str(dataSet.value) + ',' \n",
    "    query += str(user.value) + ',' + str(action.value) + ',' +  str(date.value) + ',' + str(GIS.value) + ',' \n",
    "    query += '\\''+ urlXLSX.value + '\\'' + ',' + '\\''+ urlJSON.value + '\\'' + ','\n",
    "    query += '\\''+ urlCSV.value + '\\'' + ',' + '\\''+ urlXML.value + '\\'' + ');'\n",
    "    print(query_sql)\n",
    "    query_sql('shumskiiIN.db', query, False)\n",
    "    \n",
    "    \n",
    "button.on_click(button_clicked)"
   ]
  },
  {
   "cell_type": "markdown",
   "id": "6abbc243-64d4-4e23-8835-745efc1ce996",
   "metadata": {},
   "source": [
    "# Построение типовых запросов на выборку данных"
   ]
  },
  {
   "cell_type": "code",
   "execution_count": null,
   "id": "a5daf85d-b558-4a34-b84b-dbe2e7fd6395",
   "metadata": {},
   "outputs": [],
   "source": []
  }
 ],
 "metadata": {
  "kernelspec": {
   "display_name": "Python 3 (ipykernel)",
   "language": "python",
   "name": "python3"
  },
  "language_info": {
   "codemirror_mode": {
    "name": "ipython",
    "version": 3
   },
   "file_extension": ".py",
   "mimetype": "text/x-python",
   "name": "python",
   "nbconvert_exporter": "python",
   "pygments_lexer": "ipython3",
   "version": "3.12.1"
  }
 },
 "nbformat": 4,
 "nbformat_minor": 5
}
